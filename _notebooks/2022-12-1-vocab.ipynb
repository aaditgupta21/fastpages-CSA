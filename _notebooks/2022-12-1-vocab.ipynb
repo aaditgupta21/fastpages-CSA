{
 "cells": [
  {
   "cell_type": "markdown",
   "metadata": {},
   "source": [
    "# Unit 1-10 Vocab\n",
    "> Trimester 2 Vocabulary\n",
    "\n",
    "- toc: true \n",
    "- badges: true\n",
    "- comments: false\n",
    "- categories: [unit-work]"
   ]
  },
  {
   "cell_type": "markdown",
   "metadata": {},
   "source": [
    "- **Casting - Division**: Round Division statement to the nearest integer. This can be used when a program can only handly integers\n",
    "- **Casting - Rounding**: Allows an equation to be rounded to the nearest integer, which can be very helpful\n",
    "- **Wrapper Classes**: Classes that can be created into a primtive type, such as int or boolean"
   ]
  },
  {
   "cell_type": "code",
   "execution_count": 3,
   "metadata": {
    "vscode": {
     "languageId": "java"
    }
   },
   "outputs": [
    {
     "name": "stdout",
     "output_type": "stream",
     "text": [
      "2\n",
      "20\n"
     ]
    }
   ],
   "source": [
    "double one = 3.05;\n",
    "double two = 6.72;\n",
    "\n",
    "int three = (int) (two/one);\n",
    "int multi = (int) (one*two);\n",
    "\n",
    "System.out.println(three);\n",
    "System.out.println(multi);"
   ]
  },
  {
   "cell_type": "markdown",
   "metadata": {},
   "source": [
    "- **Concatenation**: is the process of joining two strings together. The + operator is used to concatenate two strings together.\n",
    "- **Java Math Class**: The import java math class gives a lot of math operations and features that can be used in your code\n",
    "- **Compound Boolean Expression**: and If/Else statement block"
   ]
  },
  {
   "cell_type": "code",
   "execution_count": 11,
   "metadata": {
    "vscode": {
     "languageId": "java"
    }
   },
   "outputs": [
    {
     "name": "stdout",
     "output_type": "stream",
     "text": [
      "John Doe\n",
      "6\n",
      "2.449489742783178\n",
      "Hello\n"
     ]
    }
   ],
   "source": [
    "// Concatenation\n",
    "\n",
    "String name = \"John\";\n",
    "String lastName = \"Doe\";\n",
    "\n",
    "System.out.println(name + \" \" + lastName);\n",
    "\n",
    "// Java Math Class\n",
    "\n",
    "import java.lang.Math;\n",
    "int max = 10;\n",
    "int min = 1;\n",
    "int range = max - min + 1;\n",
    "int rand = (int)(Math.random() * range) + min;\n",
    "System.out.println(rand);\n",
    "System.out.println(Math.sqrt(rand));\n",
    "\n",
    "// Compound Boolean Expression\n",
    "\n",
    "if (true) {\n",
    "    System.out.println(\"Hello\");\n",
    "} else if (false) {\n",
    "    System.out.println(\"World\");\n",
    "} else {\n",
    "    System.out.println(\"!\");\n",
    "}"
   ]
  },
  {
   "cell_type": "markdown",
   "metadata": {},
   "source": [
    "- **Truth Table**: A table where one column is each variable and another column for the possible value of the variable\n",
    "- **De Morgans Law**: Similar to Logic Gates from CSP. Talks about how || (or) and && (and)\n",
    "- **Comparing Numbers**: Use the == operator to compare numbers\n"
   ]
  },
  {
   "cell_type": "code",
   "execution_count": 20,
   "metadata": {
    "vscode": {
     "languageId": "java"
    }
   },
   "outputs": [
    {
     "name": "stdout",
     "output_type": "stream",
     "text": [
      "De Morgans law is true\n",
      "x is less than y\n"
     ]
    }
   ],
   "source": [
    "// De Morgans Law\n",
    "if (!((true == true) && (true == false))) {\n",
    "    System.out.println(\"De Morgans law is true\");\n",
    "}\n",
    "\n",
    "// Comparing Numbers\n",
    "int x = 1;\n",
    "int y = 2;\n",
    "\n",
    "if (x == y) {\n",
    "    System.out.println(\"x is equal to y\");\n",
    "} else if (x > y) {\n",
    "    System.out.println(\"x is greater than y\");\n",
    "} else if (x < y) {\n",
    "    System.out.println(\"x is less than y\");\n",
    "} else {\n",
    "    System.out.println(\"x is not equal to y\");\n",
    "}"
   ]
  }
 ],
 "metadata": {
  "kernelspec": {
   "display_name": "Java",
   "language": "java",
   "name": "java"
  },
  "language_info": {
   "codemirror_mode": "java",
   "file_extension": ".jshell",
   "mimetype": "text/x-java-source",
   "name": "Java",
   "pygments_lexer": "java",
   "version": "11.0.16+8-post-Ubuntu-0ubuntu120.04"
  },
  "orig_nbformat": 4
 },
 "nbformat": 4,
 "nbformat_minor": 2
}
