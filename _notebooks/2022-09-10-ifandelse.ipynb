{
 "cells": [
  {
   "cell_type": "markdown",
   "metadata": {},
   "source": [
    "# If and Else Statements\n",
    "> Lesson on if and else statements\n",
    "\n",
    "- toc: true \n",
    "- badges: true\n",
    "- comments: false\n",
    "- categories: [unit-work]"
   ]
  },
  {
   "cell_type": "markdown",
   "metadata": {},
   "source": [
    "# What is if and else condition\n",
    "- Allows program to check if a condition is true and runs that certain code block otherwise it will run the other code block"
   ]
  },
  {
   "cell_type": "code",
   "execution_count": null,
   "metadata": {
    "vscode": {
     "languageId": "java"
    }
   },
   "outputs": [],
   "source": [
    "if(condition) {\n",
    "    // code block for if condition is true\n",
    "} else {\n",
    "    // code block for if condition is not true\n",
    "}"
   ]
  },
  {
   "cell_type": "markdown",
   "metadata": {},
   "source": [
    "# If and Else if condition\n",
    "- If the first condition is not true you can use a `else if` to see if that condition is true"
   ]
  },
  {
   "cell_type": "code",
   "execution_count": null,
   "metadata": {
    "vscode": {
     "languageId": "java"
    }
   },
   "outputs": [],
   "source": [
    "if (condition) {\n",
    "    // code block 1 for if condition is true\n",
    "} else if(condition2) {\n",
    "    // checks if condition 2 is true and runs this code block\n",
    "}"
   ]
  },
  {
   "cell_type": "markdown",
   "metadata": {},
   "source": [
    "# Last if/else statement\n",
    "- Checks two conditions and if neither are True then results to last code block with no condition"
   ]
  },
  {
   "cell_type": "code",
   "execution_count": null,
   "metadata": {
    "vscode": {
     "languageId": "java"
    }
   },
   "outputs": [],
   "source": [
    "if (condition) {\n",
    "    // code block 1\n",
    "} else if (condition2) {\n",
    "    // code block 2\n",
    "} else {\n",
    "    // last code block where neither condition or condition2 are true\n",
    "}"
   ]
  },
  {
   "cell_type": "code",
   "execution_count": 2,
   "metadata": {
    "vscode": {
     "languageId": "java"
    }
   },
   "outputs": [
    {
     "name": "stdout",
     "output_type": "stream",
     "text": [
      "Number 2 was selected\n"
     ]
    }
   ],
   "source": [
    "import java.util.Scanner;\n",
    "\n",
    "public class ConditionStatements {\n",
    "    public void go() {\n",
    "        Scanner scan = new Scanner(System.in);\n",
    "        int num = scan.nextInt();\n",
    "        if (num == 1) {\n",
    "            System.out.println(\"Number 1 was selected\");\n",
    "        } else if (num == 2) {\n",
    "            System.out.println(\"Number 2 was selected\");\n",
    "        } else if (num ==3) {\n",
    "            System.out.println(\"Number 3 was selected\");\n",
    "        } else if (num ==4) {\n",
    "            System.out.println(\"Number 4 was selected\");\n",
    "        } else if (num ==5) {\n",
    "            System.out.println(\"Number 5 was selected\");\n",
    "        } else {\n",
    "            System.out.println(\"Number was not 1-5\");\n",
    "        }\n",
    "    }\n",
    "\n",
    "    public static void main(String[] args) {\n",
    "        ConditionStatements cond = new ConditionStatements();\n",
    "        cond.go();\n",
    "    }\n",
    "}\n",
    "\n",
    "ConditionStatements.main(null);"
   ]
  },
  {
   "cell_type": "markdown",
   "metadata": {},
   "source": [
    "# Switch Statement\n",
    "- Similar to if and else statement but in a neater way in my opinion"
   ]
  },
  {
   "cell_type": "code",
   "execution_count": 3,
   "metadata": {
    "vscode": {
     "languageId": "java"
    }
   },
   "outputs": [
    {
     "name": "stdout",
     "output_type": "stream",
     "text": [
      "Number 2 was selected\n"
     ]
    }
   ],
   "source": [
    "import java.util.Scanner;\n",
    "\n",
    "public class SwitchStatement {\n",
    "    public void go() {\n",
    "        Scanner scan = new Scanner(System.in);\n",
    "        int num = scan.nextInt();\n",
    "\n",
    "        switch (num){\n",
    "            case 1:\n",
    "                System.out.println(\"Number 1 was selected\");\n",
    "                break;\n",
    "            case 2:\n",
    "                System.out.println(\"Number 2 was selected\");\n",
    "                break;\n",
    "            case 3:\n",
    "                System.out.println(\"Number 3 was selected\");\n",
    "                break;\n",
    "            case 4:\n",
    "                System.out.println(\"Number 4 was selected\");\n",
    "                break;\n",
    "            case 5:\n",
    "                System.out.println(\"Number 5 was selected\");\n",
    "                break;\n",
    "            default:\n",
    "                System.out.println(\"Number was not 1-5\");\n",
    "        }\n",
    "    }\n",
    "\n",
    "    public static void main(String[] args) {\n",
    "        SwitchStatement cond = new SwitchStatement();\n",
    "        cond.go();\n",
    "    }\n",
    "}\n",
    "\n",
    "SwitchStatement.main(null);"
   ]
  },
  {
   "cell_type": "markdown",
   "metadata": {},
   "source": [
    "# De Morgan's law\n",
    "- Similar to Logic Gates from CSP\n",
    "- Talks about how || (or) and && (and)"
   ]
  },
  {
   "cell_type": "code",
   "execution_count": 8,
   "metadata": {
    "vscode": {
     "languageId": "java"
    }
   },
   "outputs": [
    {
     "name": "stdout",
     "output_type": "stream",
     "text": [
      "De Morgans law is true\n"
     ]
    }
   ],
   "source": [
    "if (!((true == true) && (true == false))) {\n",
    "    System.out.println(\"De Morgans law is true\");\n",
    "}"
   ]
  },
  {
   "cell_type": "code",
   "execution_count": null,
   "metadata": {
    "vscode": {
     "languageId": "java"
    }
   },
   "outputs": [],
   "source": []
  }
 ],
 "metadata": {
  "kernelspec": {
   "display_name": "Java",
   "language": "java",
   "name": "java"
  },
  "language_info": {
   "codemirror_mode": "java",
   "file_extension": ".jshell",
   "mimetype": "text/x-java-source",
   "name": "Java",
   "pygments_lexer": "java",
   "version": "11.0.16+8-post-Ubuntu-0ubuntu120.04"
  },
  "orig_nbformat": 4
 },
 "nbformat": 4,
 "nbformat_minor": 2
}
