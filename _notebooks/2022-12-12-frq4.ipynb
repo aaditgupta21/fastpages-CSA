{
 "cells": [
  {
   "attachments": {},
   "cell_type": "markdown",
   "metadata": {},
   "source": [
    "# FRQ 4\n",
    "> FRQ 4 homework questions and solutions\n",
    "\n",
    "- toc: true \n",
    "- badges: true\n",
    "- comments: false\n",
    "- categories: [unit-work]"
   ]
  },
  {
   "cell_type": "code",
   "execution_count": 1,
   "metadata": {},
   "outputs": [
    {
     "ename": "CompilationException",
     "evalue": "",
     "output_type": "error",
     "traceback": [
      "\u001b[1m\u001b[30m|   \u001b[1m\u001b[30mpublic LightBoard(int \u001b[0m\u001b[1m\u001b[30m\u001b[41m\u001b[0m\u001b[1m\u001b[30mnumRows, int numCols) {\u001b[0m",
      "\u001b[1m\u001b[31m'.class' expected\u001b[0m",
      ""
     ]
    }
   ],
   "source": [
    "public LightBoard(int numRows, int numCols) {\n",
    "    lights = new Boolean[numRows][numCols];\n",
    "    for (int i =0; i < numRows; i++) {\n",
    "\n",
    "        for (int j =0; j < numCols; j++) {\n",
    "            if(Math.random() <= 0.4) {\n",
    "                lights[i][j] = true;\n",
    "            }\n",
    "        }\n",
    "    }\n",
    "}"
   ]
  },
  {
   "cell_type": "code",
   "execution_count": null,
   "metadata": {},
   "outputs": [],
   "source": [
    "public Boolean evaluateLight(int row, int col) {\n",
    "    int count = 0;\n",
    "    if (lights[row][col] == true) {\n",
    "        for (int i =0; i < lights.length; i++) {\n",
    "            if (lights[i][col] == true) {\n",
    "                count++;\n",
    "            }\n",
    "        }\n",
    "\n",
    "        if (count % 2 == 1) {\n",
    "            return true;\n",
    "        } else {\n",
    "            return false;\n",
    "        }\n",
    "    } else if (lights[row][col] == false) {\n",
    "        int count = 0;\n",
    "\n",
    "        for (int i = 0; i< lights.length; i++) {\n",
    "            if (lights[i][col] == true) {\n",
    "                count++;\n",
    "            }\n",
    "        }\n",
    "\n",
    "        if (count % 3 == 0) {\n",
    "            return true;\n",
    "        } else {\n",
    "            return false;\n",
    "        }\n",
    "    }\n",
    "}"
   ]
  },
  {
   "cell_type": "code",
   "execution_count": 5,
   "metadata": {},
   "outputs": [
    {
     "name": "stdout",
     "output_type": "stream",
     "text": [
      "false\n",
      "false\n",
      "true\n"
     ]
    }
   ],
   "source": [
    "import java.lang.Math;\n",
    "\n",
    "public class LightBoard { \n",
    "    private boolean[][] lights; \n",
    "    public LightBoard(int numRows, int numCols) {\n",
    "        \n",
    "        lights = new boolean[numRows][numCols];\n",
    "\n",
    "        for (int i =0; i < numRows; i++) {\n",
    "            for (int j =0; j < numCols; j++) {\n",
    "                if(Math.random() <= 0.4) {\n",
    "                    lights[i][j] = true;\n",
    "                }\n",
    "            }\n",
    "        }\n",
    "    }\n",
    "\n",
    "    public boolean evaluateLight(int row, int col) {\n",
    "        if (lights[row][col] == true) {\n",
    "            int counter = 0;\n",
    "\n",
    "           for (int i = 0; i < lights.length; i++){\n",
    "               if (lights[i][col] == true){\n",
    "                   counter++;\n",
    "               }\n",
    "           }\n",
    "\n",
    "           if (counter % 2 == 0){\n",
    "               return false;\n",
    "           }\n",
    "           else{\n",
    "               return true;\n",
    "           }\n",
    "\n",
    "        }\n",
    "        else {\n",
    "            int counter = 0;\n",
    "            for (int i = 0; i < lights.length; i++){\n",
    "                if (lights[i][col] == true){\n",
    "                    counter++;\n",
    "                }\n",
    "            }\n",
    "\n",
    "            if (counter % 3 == 0) {\n",
    "                return true;\n",
    "            }\n",
    "            else {\n",
    "                return false;\n",
    "            }\n",
    "        }\n",
    "    }\n",
    "}\n",
    "\n",
    "LightBoard a = new LightBoard(5,5);\n",
    "System.out.println(a.evaluateLight(0,0));\n",
    "System.out.println(a.evaluateLight(0,2));\n",
    "System.out.println(a.evaluateLight(0,3));\n"
   ]
  },
  {
   "cell_type": "code",
   "execution_count": null,
   "metadata": {},
   "outputs": [],
   "source": []
  }
 ],
 "metadata": {
  "kernelspec": {
   "display_name": "Java",
   "language": "java",
   "name": "java"
  },
  "language_info": {
   "codemirror_mode": "java",
   "file_extension": ".jshell",
   "mimetype": "text/x-java-source",
   "name": "java",
   "pygments_lexer": "java",
   "version": "11.0.16+8-post-Ubuntu-0ubuntu120.04"
  },
  "orig_nbformat": 4
 },
 "nbformat": 4,
 "nbformat_minor": 2
}
