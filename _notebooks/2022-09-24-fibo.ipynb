{
 "cells": [
  {
   "cell_type": "markdown",
   "metadata": {},
   "source": [
    "# Fibonacci For Loop"
   ]
  },
  {
   "cell_type": "code",
   "execution_count": 7,
   "metadata": {
    "vscode": {
     "languageId": "java"
    }
   },
   "outputs": [
    {
     "name": "stdout",
     "output_type": "stream",
     "text": [
      "0 1 1 2 3 5 8 13 21 34 "
     ]
    }
   ],
   "source": [
    "import javax.swing.JOptionPane;\n",
    "\n",
    "public class FiboFor {\n",
    "    public static void main(String[] args) {\n",
    "      String inpStr = JOptionPane.showInputDialog(\"Give the amount of Fibo numbers that you would like to print\");\n",
    "      int inpNum = Integer.parseInt(inpStr);\n",
    "      int first = 0;\n",
    "      int second = 1;\n",
    "  \n",
    "      for (int i = 1; i <= inpNum; i++) {\n",
    "        System.out.print(first + \" \");\n",
    "        int nextNum = first + second;\n",
    "        first = second;\n",
    "        second = nextNum;\n",
    "      }\n",
    "    }\n",
    "}\n",
    "\n",
    "FiboFor.main(null);\n"
   ]
  },
  {
   "cell_type": "markdown",
   "metadata": {},
   "source": [
    "# Fibonacci While Loop"
   ]
  },
  {
   "cell_type": "code",
   "execution_count": 6,
   "metadata": {
    "vscode": {
     "languageId": "java"
    }
   },
   "outputs": [
    {
     "name": "stdout",
     "output_type": "stream",
     "text": [
      "0 1 1 2 3 5 8 13 21 34 "
     ]
    }
   ],
   "source": [
    "import javax.swing.JOptionPane;\n",
    "\n",
    "public class FiboWhile {\n",
    "    public static void main(String[] args) {\n",
    "      int start = 0;  \n",
    "      String inpStr = JOptionPane.showInputDialog(\"Give the amount of Fibo numbers that you would like to print\");\n",
    "      int inpNum = Integer.parseInt(inpStr);\n",
    "      int first = 0;\n",
    "      int second = 1;\n",
    "  \n",
    "      while (start < inpNum) {\n",
    "        System.out.print(first + \" \");\n",
    "        int nextNum = first + second;\n",
    "        first = second;\n",
    "        second = nextNum;\n",
    "        start++;\n",
    "      }\n",
    "    }\n",
    "}\n",
    "\n",
    "FiboWhile.main(null);\n"
   ]
  },
  {
   "cell_type": "markdown",
   "metadata": {},
   "source": [
    "# Fibonacci Recursion Loop"
   ]
  },
  {
   "cell_type": "code",
   "execution_count": 9,
   "metadata": {
    "vscode": {
     "languageId": "java"
    }
   },
   "outputs": [
    {
     "name": "stdout",
     "output_type": "stream",
     "text": [
      "0 1 1 2 3 5 8 13 21 34 "
     ]
    }
   ],
   "source": [
    "import javax.swing.JOptionPane;\n",
    "\n",
    "public class FiboRec{\n",
    "    public static int Recursion(int n){\n",
    "        if(n == 0){\n",
    "            return 0;\n",
    "        }\n",
    "        if(n == 1 || n == 2){\n",
    "            return 1; \n",
    "        }\n",
    "        return Recursion(n-2) + Recursion(n-1);\n",
    "    }\n",
    "\n",
    "    public static void main(String args[]) {\n",
    "        String num = JOptionPane.showInputDialog(\"Give the amount of Fibo numbers that you would like to print\");\n",
    "        int end = Integer.parseInt(num);\n",
    "        for(int i = 0; i < end; i++){\n",
    "            System.out.print(Recursion(i) +\" \");\n",
    "        }\n",
    "    }\n",
    "}\n",
    "\n",
    "FiboRec.main(null);"
   ]
  },
  {
   "cell_type": "markdown",
   "metadata": {},
   "source": [
    "# Fibonacci Abstraction"
   ]
  },
  {
   "cell_type": "code",
   "execution_count": 19,
   "metadata": {
    "vscode": {
     "languageId": "java"
    }
   },
   "outputs": [
    {
     "name": "stdout",
     "output_type": "stream",
     "text": [
      "0 1 1 2 3 5 8 13 21 34 "
     ]
    }
   ],
   "source": [
    "abstract class Fibonacci {\n",
    "    abstract void run(); \n",
    "\n",
    "    private int first;\n",
    "    private int second;\n",
    "\n",
    "    public void setFirst(int num) {\n",
    "        first = num;\n",
    "    }\n",
    "\n",
    "    public int getFirst() {\n",
    "        return first;\n",
    "    }\n",
    "\n",
    "    public void setSecond(int num) {\n",
    "        second = num;\n",
    "    }\n",
    "\n",
    "    public int getSecond() {\n",
    "        return second;\n",
    "    }\n",
    "\n",
    "}\n",
    "\n",
    "class Fibo extends Fibonacci {\n",
    "\n",
    "    void run() {\n",
    "        String inpStr = JOptionPane.showInputDialog(\"Give the amount of Fibo numbers that you would like to print\");\n",
    "        int inpNum = Integer.parseInt(inpStr);\n",
    "        setFirst(0);\n",
    "        setSecond(1);\n",
    "    \n",
    "        for (int i = 1; i <= inpNum; i++) {\n",
    "            System.out.print(getFirst() + \" \");\n",
    "            int nextNum = getFirst() + getSecond();\n",
    "            setFirst(getSecond());\n",
    "            setSecond(nextNum);\n",
    "        }\n",
    "    }\n",
    "    public static void main(String args[]) {\n",
    "        Fibonacci obj = new Fibo();\n",
    "        obj.run();\n",
    "    }\n",
    "}\n",
    "\n",
    "Fibo.main(null);"
   ]
  },
  {
   "cell_type": "code",
   "execution_count": null,
   "metadata": {
    "vscode": {
     "languageId": "java"
    }
   },
   "outputs": [],
   "source": []
  }
 ],
 "metadata": {
  "kernelspec": {
   "display_name": "Java",
   "language": "java",
   "name": "java"
  },
  "language_info": {
   "codemirror_mode": "java",
   "file_extension": ".jshell",
   "mimetype": "text/x-java-source",
   "name": "Java",
   "pygments_lexer": "java",
   "version": "11.0.16+8-post-Ubuntu-0ubuntu120.04"
  },
  "orig_nbformat": 4
 },
 "nbformat": 4,
 "nbformat_minor": 2
}
