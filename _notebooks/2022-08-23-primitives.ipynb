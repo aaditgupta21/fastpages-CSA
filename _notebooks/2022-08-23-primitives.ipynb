{
 "cells": [
  {
   "cell_type": "markdown",
   "metadata": {},
   "source": [
    "# Primitives Notebook\n",
    "> Java notebook for primitives\n",
    "\n",
    "- toc: true \n",
    "- badges: true\n",
    "- comments: false\n",
    "- categories: [unit-work]"
   ]
  },
  {
   "cell_type": "code",
   "execution_count": 1,
   "metadata": {
    "vscode": {
     "languageId": "java"
    }
   },
   "outputs": [
    {
     "name": "stdout",
     "output_type": "stream",
     "text": [
      "Enter a temperature in Celsius: 13.0\n",
      "The temperature of 13.0 degrees celsius is equal to 55.4 degrees farenheit\n"
     ]
    }
   ],
   "source": [
    "import java.util.Scanner;\n",
    "\n",
    "// initialize class\n",
    "public class Temperature {\n",
    "    public static void main(String[] args) {    \n",
    "        // initialize scanner input\n",
    "        Scanner input;\n",
    "        // initialize fahrenheit double. Stores fahrenheit converted value\n",
    "        double fahrenheit = 0.0;\n",
    "        // initialize celsius double. Stores celsius value from user\n",
    "        double celsius = 0.0;\n",
    "        // initialize finalString String. Stores combined string with casting.\n",
    "        String finalString;\n",
    "        // initialize correctDouble double. Stores boolean value when double is correct.\n",
    "        boolean correctDouble;\n",
    "\n",
    "        // primitive double\n",
    "        input = new Scanner(System.in);\n",
    "        System.out.print(\"Enter a temperature in Celsius: \");\n",
    "        try {\n",
    "            celsius = input.nextDouble();\n",
    "            System.out.println(celsius);\n",
    "            // sets variable to True meaning the double entered is correct\n",
    "            correctDouble = true;\n",
    "        } catch (Exception e) {  // if not a number\n",
    "            correctDouble = false;\n",
    "        }\n",
    "        input.close();\n",
    "\n",
    "        // Kills prompt if value is not a double\n",
    "        if(!correctDouble) {\n",
    "            System.out.println(\"\\nNot a double! Please try again\");\n",
    "            return;\n",
    "        }\n",
    "        // Mathematics for converting celsius to fahrenheit\n",
    "        fahrenheit = ((celsius * 9) / 5) + 32; \n",
    "\n",
    "        // final formatted string with both variables\n",
    "        finalString = \"The temperature of \" + celsius + \" degrees celsius is equal to \" + fahrenheit + \" degrees farenheit\";\n",
    "\n",
    "        System.out.println(\"The temperature of \" + celsius + \" degrees celsius is equal to \" + fahrenheit + \" degrees farenheit\"); \n",
    "    }\n",
    "}\n",
    "Temperature.main(null);\n"
   ]
  },
  {
   "cell_type": "code",
   "execution_count": null,
   "metadata": {
    "vscode": {
     "languageId": "java"
    }
   },
   "outputs": [],
   "source": []
  }
 ],
 "metadata": {
  "kernelspec": {
   "display_name": "Java",
   "language": "java",
   "name": "java"
  },
  "language_info": {
   "codemirror_mode": "java",
   "file_extension": ".jshell",
   "mimetype": "text/x-java-source",
   "name": "Java",
   "pygments_lexer": "java",
   "version": "11.0.16+8-post-Ubuntu-0ubuntu120.04"
  },
  "orig_nbformat": 4
 },
 "nbformat": 4,
 "nbformat_minor": 2
}
