{
 "cells": [
  {
   "cell_type": "markdown",
   "metadata": {},
   "source": [
    "# Anatomy of Java\n",
    "> My learning of java basics and OOP structure\n",
    "\n",
    "- toc: true \n",
    "- badges: true\n",
    "- comments: false\n",
    "- categories: [unit-work]"
   ]
  },
  {
   "cell_type": "markdown",
   "metadata": {},
   "source": [
    "# Basic Java Class"
   ]
  },
  {
   "cell_type": "code",
   "execution_count": 2,
   "metadata": {
    "vscode": {
     "languageId": "java"
    }
   },
   "outputs": [
    {
     "name": "stdout",
     "output_type": "stream",
     "text": [
      "Hello\n"
     ]
    }
   ],
   "source": [
    "// Main Class. Name of class needs to be the same as filename\n",
    "public class Hello {\n",
    "\n",
    "    // The main method. First thing program does is find this method and run it\n",
    "    public static void main(String[] args) {\n",
    "        System.out.println(\"Hello\");\n",
    "    }\n",
    "}\n",
    "\n",
    "Hello.main(null); \n",
    "// Calls main method with passing nothing for parameter"
   ]
  },
  {
   "cell_type": "markdown",
   "metadata": {},
   "source": [
    "# Methods"
   ]
  },
  {
   "cell_type": "code",
   "execution_count": 3,
   "metadata": {
    "vscode": {
     "languageId": "java"
    }
   },
   "outputs": [
    {
     "name": "stdout",
     "output_type": "stream",
     "text": [
      "I love sports\n"
     ]
    }
   ],
   "source": [
    "public class Sports {\n",
    "\n",
    "    // Method called sportIntro. Similar to functions in python\n",
    "    static void sportIntro() {\n",
    "        System.out.println(\"I love sports\");\n",
    "    }\n",
    "\n",
    "    public static void main(String[] args) {\n",
    "        // calls method/function\n",
    "        sportIntro();\n",
    "    }\n",
    "}\n",
    "\n",
    "Sports.main(null);"
   ]
  },
  {
   "cell_type": "markdown",
   "metadata": {},
   "source": [
    "# Class Attributes with Objects"
   ]
  },
  {
   "cell_type": "code",
   "execution_count": 6,
   "metadata": {
    "vscode": {
     "languageId": "java"
    }
   },
   "outputs": [
    {
     "name": "stdout",
     "output_type": "stream",
     "text": [
      "For the game of Basketball, 24.23 million people play!\n"
     ]
    }
   ],
   "source": [
    "public class Sports {\n",
    "    String name;\n",
    "    double population;\n",
    "\n",
    "    public static void main(String[] args) {\n",
    "        Sports basketball = new Sports();\n",
    "        basketball.name = \"Basketball\";\n",
    "        basketball.population = 24.23; // in millions\n",
    "\n",
    "        System.out.println(\"For the game of \" + basketball.name + \", \" + basketball.population + \" million people play!\");\n",
    "\n",
    "    }\n",
    "}\n",
    "\n",
    "Sports.main(null);"
   ]
  },
  {
   "cell_type": "markdown",
   "metadata": {},
   "source": [
    "# Constructors"
   ]
  },
  {
   "cell_type": "code",
   "execution_count": 8,
   "metadata": {
    "vscode": {
     "languageId": "java"
    }
   },
   "outputs": [
    {
     "name": "stdout",
     "output_type": "stream",
     "text": [
      "Basketball is the best sport\n"
     ]
    }
   ],
   "source": [
    "public class Sports {\n",
    "    String name;\n",
    "\n",
    "    public Sports(String title) {\n",
    "        name = title;\n",
    "    }\n",
    "\n",
    "    public static void main(String[] args) {\n",
    "        Sports basketball = new Sports(\"Basketball is the best sport\");\n",
    "        System.out.println(basketball.name);\n",
    "    }\n",
    "}\n",
    "\n",
    "Sports.main(null);"
   ]
  },
  {
   "cell_type": "markdown",
   "metadata": {},
   "source": [
    "# Getters and Setters\n",
    "- Private Variables"
   ]
  },
  {
   "cell_type": "code",
   "execution_count": 10,
   "metadata": {
    "vscode": {
     "languageId": "java"
    }
   },
   "outputs": [
    {
     "name": "stdout",
     "output_type": "stream",
     "text": [
      "basketball\n"
     ]
    }
   ],
   "source": [
    "public class Sports {\n",
    "    private String title;\n",
    "\n",
    "    public String getTitle() {\n",
    "        return title;\n",
    "    }\n",
    "\n",
    "    public void setTitle(String title) {\n",
    "        this.title = title;\n",
    "    }\n",
    "}\n",
    "\n",
    "public class Main {\n",
    "    public static void main(String[] args) {\n",
    "        Sports basketball = new Sports();\n",
    "        basketball.setTitle(\"basketball\");\n",
    "\n",
    "        System.out.println(basketball.getTitle());\n",
    "    }\n",
    "}\n",
    "\n",
    "Main.main(null);"
   ]
  },
  {
   "cell_type": "markdown",
   "metadata": {},
   "source": [
    "# Dessert Example"
   ]
  },
  {
   "cell_type": "code",
   "execution_count": 12,
   "metadata": {
    "vscode": {
     "languageId": "java"
    }
   },
   "outputs": [
    {
     "name": "stdout",
     "output_type": "stream",
     "text": [
      "In Setter\n",
      "The name of the dessert is Cake and the price is $10\n"
     ]
    }
   ],
   "source": [
    "public class Desserts {\n",
    "    private String name;\n",
    "    private int price;\n",
    "\n",
    "    public Desserts() {\n",
    "        name = \"dessert\";\n",
    "        price = 5;\n",
    "    }\n",
    "\n",
    "    public void setDesc(String name, int price) {\n",
    "        System.out.println(\"In Setter\");\n",
    "        this.name = name;\n",
    "        this.price = price;\n",
    "    }\n",
    "\n",
    "    public String getDesc() {\n",
    "        return \"The name of the dessert is \" + this.name + \" and the price is $\" + this.price;\n",
    "    }\n",
    "\n",
    "    public static void main(String[] args) {\n",
    "        Desserts Dessert1 = new Desserts();\n",
    "\n",
    "        Dessert1.setDesc(\"Cake\", 10);\n",
    "\n",
    "        System.out.println(Dessert1.getDesc());\n",
    "    }\n",
    "}\n",
    "\n",
    "Desserts.main(null);"
   ]
  },
  {
   "cell_type": "code",
   "execution_count": null,
   "metadata": {
    "vscode": {
     "languageId": "java"
    }
   },
   "outputs": [],
   "source": []
  }
 ],
 "metadata": {
  "kernelspec": {
   "display_name": "Java",
   "language": "java",
   "name": "java"
  },
  "language_info": {
   "codemirror_mode": "java",
   "file_extension": ".jshell",
   "mimetype": "text/x-java-source",
   "name": "Java",
   "pygments_lexer": "java",
   "version": "11.0.16+8-post-Ubuntu-0ubuntu120.04"
  },
  "orig_nbformat": 4
 },
 "nbformat": 4,
 "nbformat_minor": 2
}
