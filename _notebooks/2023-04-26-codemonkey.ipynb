{
 "cells": [
  {
   "attachments": {},
   "cell_type": "markdown",
   "metadata": {},
   "source": [
    "# CodeMonkey's Hacks\n",
    "> Hacks for Codemonkeys\n",
    "\n",
    "- toc: true \n",
    "- badges: true\n",
    "- comments: false\n",
    "- categories: [unit-work]"
   ]
  },
  {
   "attachments": {},
   "cell_type": "markdown",
   "metadata": {},
   "source": [
    "# All Elements to n"
   ]
  },
  {
   "cell_type": "code",
   "execution_count": 6,
   "metadata": {
    "vscode": {
     "languageId": "java"
    }
   },
   "outputs": [
    {
     "name": "stdout",
     "output_type": "stream",
     "text": [
      "[1, 2, 3, 4, 5]\n",
      "[10, 10, 10, 10, 10]\n"
     ]
    }
   ],
   "source": [
    "public class ElementN {\n",
    "    public void changeArray(int[] array, int n) {\n",
    "        for (int i = 0; i < array.length; i++) {\n",
    "            array[i] = n;\n",
    "        }\n",
    "    }\n",
    "\n",
    "    public static void main(String[] args) {\n",
    "        ElementN elementN = new ElementN();\n",
    "        int[] array = {1, 2, 3, 4, 5};\n",
    "        System.out.println(Arrays.toString(array));\n",
    "        elementN.changeArray(array, 10);\n",
    "        System.out.println(Arrays.toString(array));\n",
    "    }\n",
    "}\n",
    "\n",
    "ElementN.main(null);"
   ]
  },
  {
   "attachments": {},
   "cell_type": "markdown",
   "metadata": {},
   "source": [
    "# Average of Array"
   ]
  },
  {
   "cell_type": "code",
   "execution_count": 12,
   "metadata": {
    "vscode": {
     "languageId": "java"
    }
   },
   "outputs": [
    {
     "name": "stdout",
     "output_type": "stream",
     "text": [
      "[1, 2, 3]\n",
      "2.0\n"
     ]
    }
   ],
   "source": [
    "public class FindAverage {\n",
    "    public double findAverage(ArrayList<Integer> arr) {\n",
    "        int sum = 0;\n",
    "        for (int i =0; i< arr.size(); i++) {\n",
    "            sum += arr.get(i);\n",
    "        }\n",
    "        return (double) sum / arr.size();\n",
    "    }\n",
    "\n",
    "    public static void main(String[] args) {\n",
    "        FindAverage average = new FindAverage();\n",
    "        ArrayList<Integer> arr = new ArrayList<>();\n",
    "        arr.add(1);\n",
    "        arr.add(2);\n",
    "        arr.add(3);\n",
    "        System.out.println(arr);\n",
    "        System.out.println(average.findAverage(arr));\n",
    "    }\n",
    "}\n",
    "\n",
    "FindAverage.main(null);"
   ]
  },
  {
   "attachments": {},
   "cell_type": "markdown",
   "metadata": {},
   "source": [
    "# Find Average of Diagonal"
   ]
  },
  {
   "cell_type": "code",
   "execution_count": 14,
   "metadata": {
    "vscode": {
     "languageId": "java"
    }
   },
   "outputs": [
    {
     "name": "stdout",
     "output_type": "stream",
     "text": [
      "[[1, 2, 3], [4, 5, 6], [7, 8, 9]]\n",
      "2.0\n"
     ]
    }
   ],
   "source": [
    "public class AverageDiagonal {\n",
    "    public double findAverage(int[][] arr) {\n",
    "        int sum = 0;\n",
    "        for (int i = 0; i < arr.length; i++) {\n",
    "            for (int j = 0; j < arr[0].length - i; j++) {\n",
    "                if (i == j) {\n",
    "                    sum += arr[i][j];\n",
    "                }\n",
    "            }\n",
    "        }\n",
    "\n",
    "        return (double) sum / arr.length;\n",
    "    }\n",
    "\n",
    "    public static void main(String[] args) {\n",
    "        AverageDiagonal average = new AverageDiagonal();\n",
    "        int[][] arr = {{1, 2, 3}, {4, 5, 6}, {7, 8, 9}};\n",
    "        System.out.println(Arrays.deepToString(arr));\n",
    "        System.out.println(average.findAverage(arr));\n",
    "    }\n",
    "}\n",
    "\n",
    "AverageDiagonal.main(null);"
   ]
  },
  {
   "cell_type": "code",
   "execution_count": null,
   "metadata": {
    "vscode": {
     "languageId": "java"
    }
   },
   "outputs": [],
   "source": []
  }
 ],
 "metadata": {
  "kernelspec": {
   "display_name": "Java",
   "language": "java",
   "name": "java"
  },
  "language_info": {
   "codemirror_mode": "java",
   "file_extension": ".jshell",
   "mimetype": "text/x-java-source",
   "name": "Java",
   "pygments_lexer": "java",
   "version": "19.0.2"
  },
  "orig_nbformat": 4
 },
 "nbformat": 4,
 "nbformat_minor": 2
}
