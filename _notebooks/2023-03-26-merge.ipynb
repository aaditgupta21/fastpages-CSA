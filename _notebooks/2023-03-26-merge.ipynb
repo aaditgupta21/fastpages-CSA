{
 "cells": [
  {
   "attachments": {},
   "cell_type": "markdown",
   "metadata": {},
   "source": [
    "# Merge Queues\n",
    "> Code for merging queues\n",
    "\n",
    "- toc: true \n",
    "- badges: true\n",
    "- comments: false\n",
    "- categories: [unit-work]"
   ]
  },
  {
   "cell_type": "code",
   "execution_count": 3,
   "metadata": {},
   "outputs": [
    {
     "name": "stdout",
     "output_type": "stream",
     "text": [
      "Queue 1: [1, 3, 5]\n",
      "Queue 2: [2, 4, 6]\n",
      "Merged Queue: [1, 2, 3, 4, 5, 6]\n"
     ]
    }
   ],
   "source": [
    "import java.util.LinkedList;\n",
    "import java.util.Queue;\n",
    "\n",
    "public class MergeQueues<T> {\n",
    "    private Queue<T> queue1;\n",
    "    private Queue<T> queue2;\n",
    "\n",
    "    public MergeQueues(Queue<T> queue1, Queue<T> queue2) {\n",
    "        this.queue1 = queue1;\n",
    "        this.queue2 = queue2;\n",
    "    }\n",
    "\n",
    "    public Queue<T> merge() {\n",
    "        Queue<T> result = new LinkedList<>();\n",
    "\n",
    "        while (!queue1.isEmpty() && !queue2.isEmpty()) {\n",
    "            if (queue1.peek().hashCode() < queue2.peek().hashCode()) {\n",
    "                result.add(queue1.poll());\n",
    "            } else {\n",
    "                result.add(queue2.poll());\n",
    "            }            \n",
    "\n",
    "        }\n",
    "\n",
    "        while (!queue1.isEmpty()) {\n",
    "            result.add(queue1.poll());\n",
    "        }\n",
    "\n",
    "        while (!queue2.isEmpty()) {\n",
    "            result.add(queue2.poll());\n",
    "        }\n",
    "\n",
    "        return result;\n",
    "    }\n",
    "\n",
    "    public static void main(String[] args) {\n",
    "        Queue<Integer> queue1 = new LinkedList<>();\n",
    "        Queue<Integer> queue2 = new LinkedList<>();\n",
    "        queue1.add(1);\n",
    "        queue1.add(3);\n",
    "        queue1.add(5);\n",
    "        queue2.add(2);\n",
    "        queue2.add(4);\n",
    "        queue2.add(6);\n",
    "        System.out.println(\"Queue 1: \" + queue1);\n",
    "        System.out.println(\"Queue 2: \" + queue2);\n",
    "\n",
    "        MergeQueues<Integer> merger = new MergeQueues<>(queue1, queue2);\n",
    "        Queue<Integer> mergedQueue = merger.merge();\n",
    "        System.out.println(\"Merged Queue: \" + mergedQueue);\n",
    "    }\n",
    "}\n",
    "\n",
    "MergeQueues.main(null);\n"
   ]
  },
  {
   "attachments": {},
   "cell_type": "markdown",
   "metadata": {},
   "source": [
    "# Sorting Algorithm"
   ]
  },
  {
   "cell_type": "code",
   "execution_count": 6,
   "metadata": {},
   "outputs": [
    {
     "name": "stdout",
     "output_type": "stream",
     "text": [
      "[1, 2, 3, 4, 5]\n",
      "[1, 2, 3, 4, 5]\n"
     ]
    }
   ],
   "source": [
    "public class SortingAlgos {\n",
    "    public static void bubbleSort(int[] arr) {\n",
    "        for (int i =0; i < arr.length; i++) {\n",
    "            // Loop through the array\n",
    "            for (int j = 0; j < arr.length - i - 1; j++) {\n",
    "                if (arr[j] > arr[j + 1]) {\n",
    "                    // Check to see if the next element is greater than the current element\n",
    "                    int temp = arr[j];\n",
    "                    // Swap the elements\n",
    "                    arr[j] = arr[j + 1];\n",
    "                    arr[j + 1] = temp;\n",
    "                }\n",
    "            }\n",
    "        }\n",
    "    }\n",
    "\n",
    "    public static void insertionSort(int[] array) {\n",
    "        for (int i = 1; i < array.length; i++) {\n",
    "            // Loop through the array\n",
    "            int key = array[i];\n",
    "            // Set the key to the current element\n",
    "            int j = i - 1;\n",
    "            // Set j to the previous element\n",
    "            while (j >= 0 && array[j] > key) {\n",
    "                // Loop through the array until the previous element is less than the key\n",
    "                array[j + 1] = array[j];\n",
    "                // Set the next element to the current element\n",
    "                j = j - 1;\n",
    "\n",
    "            }\n",
    "            // Set the next element to the key\n",
    "            array[j + 1] = key;\n",
    "        }\n",
    "    }\n",
    "\n",
    "    public static void main(String[] args) {\n",
    "        int[] arr = { 5, 4, 3, 2, 1 };\n",
    "        bubbleSort(arr);\n",
    "        System.out.println(Arrays.toString(arr));\n",
    "        int[] arr2 = { 5, 4, 3, 2, 1 };\n",
    "        insertionSort(arr2);\n",
    "        System.out.println(Arrays.toString(arr2));\n",
    "    }\n",
    "}\n",
    "\n",
    "SortingAlgos.main(null);"
   ]
  },
  {
   "attachments": {},
   "cell_type": "markdown",
   "metadata": {},
   "source": [
    "# Shuffle Queue"
   ]
  },
  {
   "cell_type": "code",
   "execution_count": 8,
   "metadata": {},
   "outputs": [
    {
     "name": "stdout",
     "output_type": "stream",
     "text": [
      "Original queue: [1, 2, 3, 4, 5, 6, 7, 8, 9, 10]\n",
      "Shuffled queue: [10, 3, 9, 1, 5, 6, 2, 4, 8, 7]\n"
     ]
    }
   ],
   "source": [
    "import java.util.*;\n",
    "\n",
    "public class ShuffleQueue {\n",
    "    public static void main(String[] args) {\n",
    "        Queue<Integer> orderedQueue = new LinkedList<>();\n",
    "        orderedQueue.add(1);\n",
    "        orderedQueue.add(2);\n",
    "        orderedQueue.add(3);\n",
    "        orderedQueue.add(4);\n",
    "        orderedQueue.add(5);\n",
    "        orderedQueue.add(6);\n",
    "        orderedQueue.add(7);\n",
    "        orderedQueue.add(8);\n",
    "        orderedQueue.add(9);\n",
    "        orderedQueue.add(10);\n",
    "        \n",
    "        Queue<Integer> shuffledQueue = shuffle(orderedQueue);\n",
    "        \n",
    "        System.out.println(\"Original queue: \" + orderedQueue);\n",
    "        System.out.println(\"Shuffled queue: \" + shuffledQueue);\n",
    "    }\n",
    "    \n",
    "    public static <T> Queue<T> shuffle(Queue<T> queue) {\n",
    "        List<T> list = new ArrayList<>(queue);\n",
    "        Collections.shuffle(list);\n",
    "        Queue<T> shuffledQueue = new LinkedList<>(list);\n",
    "        return shuffledQueue;\n",
    "    }\n",
    "}\n",
    "\n",
    "ShuffleQueue.main(null);"
   ]
  },
  {
   "attachments": {},
   "cell_type": "markdown",
   "metadata": {},
   "source": [
    "# Merge Stacks"
   ]
  },
  {
   "cell_type": "code",
   "execution_count": 10,
   "metadata": {},
   "outputs": [
    {
     "name": "stdout",
     "output_type": "stream",
     "text": [
      "Merged stack:\n",
      "6\n",
      "5\n",
      "4\n",
      "3\n",
      "2\n",
      "1\n"
     ]
    }
   ],
   "source": [
    "import java.util.Stack;\n",
    "\n",
    "public class StackMerger {\n",
    "\n",
    "    public static Stack<Integer> merge(Stack<Integer> stack1, Stack<Integer> stack2) {\n",
    "        Stack<Integer> result = new Stack<>();\n",
    "\n",
    "        while (!stack1.isEmpty() && !stack2.isEmpty()) {\n",
    "            // Loop through the stacks\n",
    "            if (stack1.peek() < stack2.peek()) {\n",
    "                // Check to see if the top of stack1 is less than the top of stack2\n",
    "                result.push(stack1.pop());\n",
    "            } else {\n",
    "                // Otherwise, push the top of stack2 to the result stack\n",
    "                result.push(stack2.pop());\n",
    "            }\n",
    "        }\n",
    "\n",
    "        while (!stack1.isEmpty()) {\n",
    "            // Push the remaining elements of stack1 to the result stack\n",
    "            result.push(stack1.pop());\n",
    "        }\n",
    "\n",
    "        while (!stack2.isEmpty()) {\n",
    "            // Push the remaining elements of stack2 to the result stack\n",
    "            result.push(stack2.pop());\n",
    "        }\n",
    "\n",
    "        return result;\n",
    "    }\n",
    "\n",
    "    public static void main(String[] args) {\n",
    "        // Create two stacks\n",
    "        Stack<Integer> stack1 = new Stack<>();\n",
    "        stack1.push(5);\n",
    "        stack1.push(3);\n",
    "        stack1.push(1);\n",
    "\n",
    "        Stack<Integer> stack2 = new Stack<>();\n",
    "        stack2.push(6);\n",
    "        stack2.push(4);\n",
    "        stack2.push(2);\n",
    "\n",
    "        Stack<Integer> result = merge(stack1, stack2);\n",
    "\n",
    "        // Print the result stack\n",
    "        System.out.println(\"Merged stack:\");\n",
    "        while (!result.isEmpty()) {\n",
    "            System.out.println(result.pop());\n",
    "        }\n",
    "    }\n",
    "}\n",
    "\n",
    "StackMerger.main(null);"
   ]
  },
  {
   "cell_type": "code",
   "execution_count": null,
   "metadata": {},
   "outputs": [],
   "source": []
  }
 ],
 "metadata": {
  "kernelspec": {
   "display_name": "Java",
   "language": "java",
   "name": "java"
  },
  "language_info": {
   "codemirror_mode": "java",
   "file_extension": ".jshell",
   "mimetype": "text/x-java-source",
   "name": "java",
   "pygments_lexer": "java",
   "version": "11.0.16+8-post-Ubuntu-0ubuntu120.04"
  },
  "orig_nbformat": 4
 },
 "nbformat": 4,
 "nbformat_minor": 2
}
