{
 "cells": [
  {
   "cell_type": "markdown",
   "metadata": {},
   "source": [
    "# Bash Post\n",
    "> Notebook showing bash commands\n",
    "\n",
    "- toc: true \n",
    "- badges: true\n",
    "- comments: false\n",
    "- categories: [unit-work]"
   ]
  },
  {
   "cell_type": "code",
   "execution_count": null,
   "metadata": {
    "vscode": {
     "languageId": "shellscript"
    }
   },
   "outputs": [],
   "source": [
    "#!/bin/bash\n",
    "\n",
    "echo \"What package do you want to find\"\n",
    "\n",
    "read package\n",
    "\n",
    "dpkg -l | grep $package\n",
    "\n",
    "# This program asks for package and returns the package name with description"
   ]
  },
  {
   "cell_type": "markdown",
   "metadata": {},
   "source": [
    "`conda list` and `conda info` can help verify Anaconda installation and list conda packages installed"
   ]
  },
  {
   "cell_type": "markdown",
   "metadata": {},
   "source": [
    "`git status`: shows modified files in a repository <br> \n",
    "`git add .`: adds all modified files into commit <br>\n",
    "`git commit -m \"message\"`: creates a new commit with the message \"message\" <br>\n",
    "`git push`: pushes the commit to remote repository, which in this case is Github"
   ]
  },
  {
   "cell_type": "code",
   "execution_count": null,
   "metadata": {
    "vscode": {
     "languageId": "shellscript"
    }
   },
   "outputs": [],
   "source": [
    "#!/bin/bash\n",
    "\n",
    "git add .\n",
    "\n",
    "echo \"Please give a commit message\"\n",
    "\n",
    "read commit\n",
    "\n",
    "git commit -m \"$commit\"\n",
    "\n",
    "git push\n",
    "\n",
    "# Automating push procedure\n"
   ]
  }
 ],
 "metadata": {
  "kernelspec": {
   "display_name": "Bash",
   "language": "bash",
   "name": "bash"
  },
  "language_info": {
   "name": "bash"
  },
  "orig_nbformat": 4
 },
 "nbformat": 4,
 "nbformat_minor": 2
}
