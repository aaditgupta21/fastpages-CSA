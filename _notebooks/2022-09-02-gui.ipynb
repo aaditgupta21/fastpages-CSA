{
 "cells": [
  {
   "cell_type": "markdown",
   "metadata": {},
   "source": [
    "# GUI Notebook\n",
    "> Java notebook with GUI output\n",
    "\n",
    "- toc: true \n",
    "- badges: true\n",
    "- comments: false\n",
    "- categories: [unit-work]"
   ]
  },
  {
   "cell_type": "code",
   "execution_count": 1,
   "metadata": {},
   "outputs": [
    {
     "ename": "",
     "evalue": "",
     "output_type": "error",
     "traceback": [
      "\u001b[1;31mThe Kernel crashed while executing code in the the current cell or a previous cell. Please review the code in the cell(s) to identify a possible cause of the failure. Click <a href='https://aka.ms/vscodeJupyterKernelCrash'>here</a> for more info. View Jupyter <a href='command:jupyter.viewOutput'>log</a> for further details."
     ]
    }
   ],
   "source": [
    "import javax.swing.JFrame;\n",
    "import javax.swing.JPanel;\n",
    "import javax.swing.JLabel;\n",
    "import javax.swing.JButton;\n",
    "import javax.swing.JTextField;\n",
    "import java.awt.*;\n",
    "import java.awt.event.*;\n",
    "import java.util.Random;\n",
    "import javax.swing.JOptionPane;\n",
    "\n",
    "public class Gui implements ActionListener {\n",
    "    JFrame frame = new JFrame();\n",
    "    JPanel panel = new JPanel();\n",
    "    JButton submitButton = new JButton(\"Submit\");\n",
    "    JTextField fieldString = new JTextField(20);\n",
    "    JLabel label = new JLabel();\n",
    "    int numGuesses = 1;\n",
    "    boolean numCorrect = false;\n",
    "    Random rand = new Random();\n",
    "    int randomNumber = rand.nextInt(100);\n",
    "\n",
    "    void go() {\n",
    "        frame.add(panel);\n",
    "        panel.add(fieldString);\n",
    "        panel.add(submitButton);\n",
    "        panel.add(label);\n",
    "        frame.setVisible(true);\n",
    "        frame.setDefaultCloseOperation(JFrame.EXIT_ON_CLOSE);\n",
    "        submitButton.addActionListener(this);\n",
    "        frame.setSize(new Dimension(500, 500));\n",
    "        label.setText(\"Enter a number between 1 and 100\");\n",
    "    }\n",
    "\n",
    "    public static void main(String[] args) {\n",
    "        Gui gui = new Gui();\n",
    "        gui.go();\n",
    "    }\n",
    "\n",
    "    @Override\n",
    "    public void actionPerformed(ActionEvent e) {\n",
    "        int field = Integer.parseInt(fieldString.getText());\n",
    "        System.out.println(randomNumber);\n",
    "        System.out.println(field);\n",
    "\n",
    "        if (numCorrect == false) {\n",
    "            if (field > randomNumber) {\n",
    "                JOptionPane.showMessageDialog(null, \"Guess too high, try again. Amount of Guesses: \" + numGuesses);\n",
    "                numGuesses += 1;\n",
    "                fieldString.setText(\"\");\n",
    "            } else if (field < randomNumber) {\n",
    "                JOptionPane.showMessageDialog(null, \"Guess too low, try again. Amount of Guesses: \" + numGuesses);\n",
    "                numGuesses += 1;\n",
    "                fieldString.setText(\"\");\n",
    "            } else if (field == randomNumber) {\n",
    "                JOptionPane.showMessageDialog(null, \"Correct Guess. Amount of Guesses: \" + numGuesses);\n",
    "                numCorrect = true;\n",
    "                System.exit(0);\n",
    "            }\n",
    "        }\n",
    "    }\n",
    "\n",
    "}\n",
    "\n",
    "Gui.main(null);\n"
   ]
  },
  {
   "cell_type": "code",
   "execution_count": null,
   "metadata": {},
   "outputs": [],
   "source": []
  }
 ],
 "metadata": {
  "kernelspec": {
   "display_name": "Java",
   "language": "java",
   "name": "java"
  },
  "language_info": {
   "codemirror_mode": "java",
   "file_extension": ".jshell",
   "mimetype": "text/x-java-source",
   "name": "java",
   "pygments_lexer": "java",
   "version": "11.0.16+8-post-Ubuntu-0ubuntu120.04"
  },
  "orig_nbformat": 4
 },
 "nbformat": 4,
 "nbformat_minor": 2
}
