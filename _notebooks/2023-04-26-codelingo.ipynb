{
 "cells": [
  {
   "attachments": {},
   "cell_type": "markdown",
   "metadata": {},
   "source": [
    "# Codelingo Hacks\n",
    "> Hacks for Codelingo\n",
    "\n",
    "- toc: true \n",
    "- badges: true\n",
    "- comments: false\n",
    "- categories: [unit-work]"
   ]
  },
  {
   "attachments": {},
   "cell_type": "markdown",
   "metadata": {},
   "source": [
    "# Recursion hack"
   ]
  },
  {
   "cell_type": "code",
   "execution_count": 1,
   "metadata": {
    "vscode": {
     "languageId": "java"
    }
   },
   "outputs": [
    {
     "name": "stdout",
     "output_type": "stream",
     "text": [
      "**********\n",
      "*********\n",
      "********\n",
      "*******\n",
      "******\n",
      "*****\n",
      "****\n",
      "***\n",
      "**\n",
      "*\n"
     ]
    }
   ],
   "source": [
    "public void drawLine(int n) {\n",
    "    if (n < 1) {\n",
    "        return;\n",
    "    }\n",
    "    for (int i = 1; i <= n; i++) {\n",
    "        System.out.print(\"*\");\n",
    "    }\n",
    "    System.out.println();\n",
    "    drawLine(n - 1);\n",
    "\n",
    "}\n",
    "drawLine(10);"
   ]
  },
  {
   "attachments": {},
   "cell_type": "markdown",
   "metadata": {},
   "source": [
    "# Sorting hack"
   ]
  },
  {
   "cell_type": "code",
   "execution_count": 6,
   "metadata": {
    "vscode": {
     "languageId": "java"
    }
   },
   "outputs": [
    {
     "name": "stdout",
     "output_type": "stream",
     "text": [
      "Japan 50\n",
      "Korea 75\n",
      "USA 100\n",
      "India 150\n",
      "China 200\n"
     ]
    }
   ],
   "source": [
    "public class Country {\n",
    "    private String name;\n",
    "    private int population;\n",
    "\n",
    "    public Country(String name, int population) {\n",
    "        this.name = name;\n",
    "        this.population = population;\n",
    "    }\n",
    "\n",
    "    public String getName() { return name; }\n",
    "    public int getPopulation() { return population; }\n",
    "\n",
    "    public int compareCountry(Country c) {\n",
    "        if (this.getPopulation() > c.getPopulation()) {\n",
    "            return 1;\n",
    "        } else if (this.getPopulation() < c.getPopulation()) {\n",
    "            return -1;\n",
    "        } else {\n",
    "            return 0;\n",
    "        }\n",
    "    }\n",
    "\n",
    "}\n",
    "\n",
    "public class SelectionSort {\n",
    "    public void sort(Country[] arr) {\n",
    "        for (int i = 0; i < arr.length-1; i++) {\n",
    "            int min_idx = i;\n",
    "            for (int j = i+1; j < arr.length; j++) {\n",
    "                // use compare country, only set min_idx if -1 (smaller pop)\n",
    "                if (arr[j].compareCountry(arr[min_idx]) == -1)\n",
    "                    min_idx = j;\n",
    "            }\n",
    "            // assign temp country to swap\n",
    "            Country temp = arr[min_idx];\n",
    "            arr[min_idx] = arr[i];\n",
    "            arr[i] = temp;\n",
    "        }\n",
    "    }\n",
    "\n",
    "    public static void main(String[] args) {\n",
    "        Country[] countries = new Country[5];\n",
    "        countries[0] = new Country(\"USA\", 100);\n",
    "        countries[1] = new Country(\"China\", 200);\n",
    "        countries[2] = new Country(\"Japan\", 50);\n",
    "        countries[3] = new Country(\"Korea\", 75);\n",
    "        countries[4] = new Country(\"India\", 150);\n",
    "        SelectionSort ss = new SelectionSort();\n",
    "        ss.sort(countries);\n",
    "        for (int i = 0; i < countries.length; i++) {\n",
    "            System.out.println(countries[i].getName() + \" \" + countries[i].getPopulation());\n",
    "        }\n",
    "    }\n",
    "}\n",
    "\n",
    "SelectionSort.main(null);"
   ]
  },
  {
   "attachments": {},
   "cell_type": "markdown",
   "metadata": {},
   "source": [
    "# Arraylist hack"
   ]
  },
  {
   "cell_type": "code",
   "execution_count": 12,
   "metadata": {
    "vscode": {
     "languageId": "java"
    }
   },
   "outputs": [
    {
     "name": "stdout",
     "output_type": "stream",
     "text": [
      "[1, 2, 3]\n",
      "[3, 2, 1]\n",
      "Are they the same array reversed? true\n"
     ]
    }
   ],
   "source": [
    "public class CompareArrays {\n",
    "    public Boolean compare(ArrayList<Integer> arr1, ArrayList<Integer> arr2) {\n",
    "        if (arr1.size() != arr2.size()) {\n",
    "            return false;\n",
    "        }\n",
    "        for (int i = 0; i < arr1.size(); i++) {\n",
    "            if (arr1.get(i) != arr2.get(arr2.size() - i - 1)) {\n",
    "                return false;\n",
    "            }\n",
    "        }\n",
    "        return true;\n",
    "    }\n",
    "\n",
    "    public static void main(String[] args) {\n",
    "        ArrayList<Integer> arr1 = new ArrayList<Integer>();\n",
    "        arr1.add(1);\n",
    "        arr1.add(2);\n",
    "        arr1.add(3);\n",
    "        ArrayList<Integer> arr2 = new ArrayList<Integer>();\n",
    "        arr2.add(3);\n",
    "        arr2.add(2);\n",
    "        arr2.add(1);\n",
    "        CompareArrays ca = new CompareArrays();\n",
    "        System.out.println(arr1);\n",
    "        System.out.println(arr2);\n",
    "        System.out.println(\"Are they the same array reversed? \" + ca.compare(arr1, arr2));\n",
    "    }\n",
    "}\n",
    "\n",
    "CompareArrays.main(null);"
   ]
  },
  {
   "cell_type": "code",
   "execution_count": 20,
   "metadata": {
    "vscode": {
     "languageId": "java"
    }
   },
   "outputs": [
    {
     "name": "stdout",
     "output_type": "stream",
     "text": [
      "[1, 2, 3, 4, 5, 6]\n",
      "[1, 3, 5]\n"
     ]
    }
   ],
   "source": [
    "public class Remove {\n",
    "    public void remove(ArrayList<Integer> arr) {\n",
    "        for (int i = 0; i < arr.size(); i++) {\n",
    "            if (arr.get(i) % 2 == 0)\n",
    "                arr.remove(i);\n",
    "        }\n",
    "    }\n",
    "\n",
    "    public static void main(String[] args) {\n",
    "        ArrayList<Integer> arr = new ArrayList<Integer>();\n",
    "        arr.add(1);\n",
    "        arr.add(2);\n",
    "        arr.add(3);\n",
    "        arr.add(4);\n",
    "        arr.add(5);\n",
    "        arr.add(6);\n",
    "        Remove r = new Remove();\n",
    "        System.out.println(arr);\n",
    "        r.remove(arr);\n",
    "        System.out.println(arr);\n",
    "    }\n",
    "}\n",
    "\n",
    "Remove.main(null);"
   ]
  },
  {
   "cell_type": "code",
   "execution_count": null,
   "metadata": {
    "vscode": {
     "languageId": "java"
    }
   },
   "outputs": [],
   "source": []
  }
 ],
 "metadata": {
  "kernelspec": {
   "display_name": "Java",
   "language": "java",
   "name": "java"
  },
  "language_info": {
   "codemirror_mode": "java",
   "file_extension": ".jshell",
   "mimetype": "text/x-java-source",
   "name": "Java",
   "pygments_lexer": "java",
   "version": "19.0.2"
  },
  "orig_nbformat": 4
 },
 "nbformat": 4,
 "nbformat_minor": 2
}
