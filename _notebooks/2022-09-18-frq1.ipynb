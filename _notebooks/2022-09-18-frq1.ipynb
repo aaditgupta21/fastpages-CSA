{
 "cells": [
  {
   "cell_type": "markdown",
   "metadata": {},
   "source": [
    "# Question 1 FRQ\n",
    "> Methods and Control Structures FRQ's\n",
    "\n",
    "- toc: true \n",
    "- badges: true\n",
    "- comments: false\n",
    "- categories: [unit-work]"
   ]
  },
  {
   "cell_type": "markdown",
   "metadata": {},
   "source": [
    "# 2018 FRQ #1\n",
    "- Simulate a frog attempting to reach the goal as described in part (a)"
   ]
  },
  {
   "cell_type": "code",
   "execution_count": null,
   "metadata": {
    "vscode": {
     "languageId": "java"
    }
   },
   "outputs": [],
   "source": [
    "public boolean simulate() {\n",
    "    int start = 0;\n",
    "    int numOfHops = 0;\n",
    "\n",
    "    while(start >= 0 && numOfHops < maxHops && start < goalDistance) {\n",
    "        start += hopDistance();\n",
    "        numOfHops++;\n",
    "    }\n",
    "     return start >= goalDistance;\n",
    "}"
   ]
  },
  {
   "cell_type": "markdown",
   "metadata": {},
   "source": [
    "- Run `num` simulations and returns the proportion of simulations in which the frog successfully reached or passed the goal"
   ]
  },
  {
   "cell_type": "code",
   "execution_count": null,
   "metadata": {
    "vscode": {
     "languageId": "java"
    }
   },
   "outputs": [],
   "source": [
    "public double runSimulations(int num) {\n",
    "    int count = 0;\n",
    "    for (int i = 0; i < num; i++) {\n",
    "        if (simulate() == true) {\n",
    "            count++;\n",
    "        }\n",
    "    }\n",
    "\n",
    "    return double (count) / num;\n",
    "}"
   ]
  },
  {
   "cell_type": "markdown",
   "metadata": {},
   "source": [
    "# 2019 FRQ #1\n",
    "- Write the static method `numberOfLeapYears`, which returns the number of leap years between `year1` and `year2`, inclusive"
   ]
  },
  {
   "cell_type": "code",
   "execution_count": null,
   "metadata": {
    "vscode": {
     "languageId": "java"
    }
   },
   "outputs": [],
   "source": [
    "public static int numberOfLeapYears(int year1, int year2) {\n",
    "    int count = 0;\n",
    "    for (int i = year1; i < year2 +1; i++) {\n",
    "        if(isLeapYear(i)) {\n",
    "            count++;\n",
    "        }\n",
    "    }\n",
    "\n",
    "    return count;\n",
    "}"
   ]
  },
  {
   "cell_type": "markdown",
   "metadata": {},
   "source": [
    "- Write the static method `dayOfWeek`, which returns the integer value representing the day of the week for the given date (month, day, year)"
   ]
  },
  {
   "cell_type": "code",
   "execution_count": null,
   "metadata": {
    "vscode": {
     "languageId": "java"
    }
   },
   "outputs": [],
   "source": [
    "public static int dayOfWeek(int month, int day, int year) {\n",
    "    int firstDay = firstDayOfYear(year);\n",
    "    int day = dayOfYear(month, day, year);\n",
    "\n",
    "    return (firstDay + day - 1) % 7;\n",
    "}"
   ]
  },
  {
   "cell_type": "markdown",
   "metadata": {},
   "source": [
    "# 2015 FRQ #1\n",
    "- Complete method `arraySum` below."
   ]
  },
  {
   "cell_type": "code",
   "execution_count": null,
   "metadata": {
    "vscode": {
     "languageId": "java"
    }
   },
   "outputs": [],
   "source": [
    "public static int arraySum(int[] arr) {\n",
    "    int sum = 0;\n",
    "    for (int i =0; i < arr.length; i++) {\n",
    "        sum += arr[i];\n",
    "    }\n",
    "\n",
    "    return sum;\n",
    "}"
   ]
  },
  {
   "cell_type": "markdown",
   "metadata": {},
   "source": [
    "- Write a static method `rowSums` that calculates the sums of each of the rows in a given two-dimensional array and returns these sums in a one dimensional array"
   ]
  },
  {
   "cell_type": "code",
   "execution_count": null,
   "metadata": {
    "vscode": {
     "languageId": "java"
    }
   },
   "outputs": [],
   "source": [
    "public static int[] rowSums(int[][] arr2D) {\n",
    "    int[] arr;\n",
    "\n",
    "    for (int i =0; i < arr2D.length; i++) {\n",
    "        arr[i] = arraySum(arr2D[i]);\n",
    "    }\n",
    "\n",
    "    return arr;\n",
    "}"
   ]
  },
  {
   "cell_type": "markdown",
   "metadata": {},
   "source": [
    "- Initialize array with number of rows in arr2D, so `int[] arr = new int[arr2D.length];`"
   ]
  },
  {
   "cell_type": "code",
   "execution_count": null,
   "metadata": {
    "vscode": {
     "languageId": "java"
    }
   },
   "outputs": [],
   "source": [
    "public static boolean isDiverse(int[][] arr2D) {\n",
    "    int[] arr = rowSums(arr2D);\n",
    "\n",
    "    // Couldn't figure out rest\n",
    "}"
   ]
  },
  {
   "cell_type": "code",
   "execution_count": null,
   "metadata": {
    "vscode": {
     "languageId": "java"
    }
   },
   "outputs": [],
   "source": [
    "// Answer\n",
    "\n",
    "public static boolean isDiverse( int[][] arr2D ) {\n",
    "    // gets sums of each row from method created in part b\n",
    "    int[] check = rowSums(arr2D);\n",
    "\n",
    "    // Creates two loops to check position 0 and 1 and so on\n",
    "    for (int i=0; i<check.length; i++) {\n",
    "        for (int j=i+1; j<check.length; j++) {\n",
    "            if (check[i] == check[j])\n",
    "                return false; \n",
    "        }\n",
    "    }\n",
    "    return true; \n",
    "}\n"
   ]
  }
 ],
 "metadata": {
  "kernelspec": {
   "display_name": "Java",
   "language": "java",
   "name": "java"
  },
  "language_info": {
   "codemirror_mode": "java",
   "file_extension": ".jshell",
   "mimetype": "text/x-java-source",
   "name": "Java",
   "pygments_lexer": "java",
   "version": "11.0.16+8-post-Ubuntu-0ubuntu120.04"
  },
  "orig_nbformat": 4
 },
 "nbformat": 4,
 "nbformat_minor": 2
}
