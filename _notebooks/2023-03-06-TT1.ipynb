{
 "cells": [
  {
   "attachments": {},
   "cell_type": "markdown",
   "metadata": {},
   "source": [
    "# Tech Talk 1\n",
    "> Tech Talk 1 stuff\n",
    "\n",
    "- toc: true \n",
    "- badges: true\n",
    "- comments: false\n",
    "- categories: [unit-work]"
   ]
  },
  {
   "cell_type": "code",
   "execution_count": 9,
   "metadata": {},
   "outputs": [
    {
     "name": "stdout",
     "output_type": "stream",
     "text": [
      "Enter the first binary number: 1\n",
      "Enter the second binary number: 1\n",
      "10\n"
     ]
    }
   ],
   "source": [
    "import java.util.Scanner;\n",
    "\n",
    "public class BinaryAddition {\n",
    "    public static void main(String[] args) {\n",
    "        Scanner scanner = new Scanner(System.in);\n",
    "        System.out.print(\"Enter the first binary number: \");\n",
    "        String binary1 = scanner.nextLine();\n",
    "        System.out.print(binary1 + \"\\n\");\n",
    "\n",
    "        System.out.print(\"Enter the second binary number: \");\n",
    "        String binary2 = scanner.nextLine();\n",
    "        System.out.print(binary2 + \"\\n\");\n",
    "        int decimal1=Integer.parseInt(binary1,2);  \n",
    "        int decimal2=Integer.parseInt(binary2,2);  \n",
    "        int sum = decimal1 + decimal2;\n",
    "        System.out.println(Integer.toBinaryString(sum));\n",
    "    }\n",
    "}\n",
    "BinaryAddition.main(null);"
   ]
  },
  {
   "cell_type": "code",
   "execution_count": null,
   "metadata": {},
   "outputs": [],
   "source": []
  }
 ],
 "metadata": {
  "kernelspec": {
   "display_name": "Java",
   "language": "java",
   "name": "java"
  },
  "language_info": {
   "codemirror_mode": "java",
   "file_extension": ".jshell",
   "mimetype": "text/x-java-source",
   "name": "java",
   "pygments_lexer": "java",
   "version": "11.0.16+8-post-Ubuntu-0ubuntu120.04"
  },
  "orig_nbformat": 4
 },
 "nbformat": 4,
 "nbformat_minor": 2
}
