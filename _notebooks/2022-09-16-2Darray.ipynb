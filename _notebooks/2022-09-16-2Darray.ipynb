{
 "cells": [
  {
   "cell_type": "markdown",
   "metadata": {},
   "source": [
    "# 2D Array\n",
    "> Iteration with a 2D array\n",
    "\n",
    "- toc: true \n",
    "- badges: true\n",
    "- comments: false\n",
    "- categories: [unit-work]"
   ]
  },
  {
   "cell_type": "code",
   "execution_count": 1,
   "metadata": {
    "vscode": {
     "languageId": "java"
    }
   },
   "outputs": [
    {
     "name": "stdout",
     "output_type": "stream",
     "text": [
      "Here comes 4 monkeys\n",
      "\n",
      "ʕง ͠° ͟ل͜ ͡°)ʔ      ʕ༼ ◕_◕ ༽ʔ     ʕ(▀ ⍡ ▀)ʔ    ʕ ͡° ͜ʖ ° ͡ʔ    \n",
      "  \\_⏄_/        \\_⎏_/        \\_⎐_/       \\_⍾_/      \n",
      "  --0--         ++1++        <-2->        ==3==      \n",
      "  ⎛   ⎞          ⌋ ⌊         〈  〉       _/ \\_      \n",
      "\n",
      "Now there are 3 monkeys\n",
      "\n",
      "Here comes 3 monkeys\n",
      "\n",
      "ʕง ͠° ͟ل͜ ͡°)ʔ      ʕ༼ ◕_◕ ༽ʔ     ʕ(▀ ⍡ ▀)ʔ    \n",
      "  \\_⏄_/        \\_⎏_/        \\_⎐_/     \n",
      "  --0--         ++1++        <-2->      \n",
      "  ⎛   ⎞          ⌋ ⌊         〈  〉     \n",
      "\n",
      "Now there are 2 monkeys\n",
      "\n",
      "Here comes 2 monkeys\n",
      "\n",
      "ʕง ͠° ͟ل͜ ͡°)ʔ      ʕ༼ ◕_◕ ༽ʔ    \n",
      "  \\_⏄_/        \\_⎏_/      \n",
      "  --0--         ++1++      \n",
      "  ⎛   ⎞          ⌋ ⌊       \n",
      "\n",
      "Now there are 1 monkeys\n",
      "\n",
      "Here comes 1 monkeys\n",
      "\n",
      "ʕง ͠° ͟ل͜ ͡°)ʔ     \n",
      "  \\_⏄_/      \n",
      "  --0--       \n",
      "  ⎛   ⎞       \n",
      "\n",
      "Now there are 0 monkeys\n",
      "\n"
     ]
    }
   ],
   "source": [
    "import java.util.*;\n",
    "\n",
    "public class Array {\n",
    "    String[][] monkeys = {\n",
    "      {\n",
    "        \"ʕง ͠° ͟ل͜ ͡°)ʔ \",      //[0][0] eyes\n",
    "        \"  \\\\_⏄_/  \",      //[0][1] chin\n",
    "        \"  --0--   \",       //[0][2] body\n",
    "        \"  ⎛   ⎞   \"        //[0][3] legs\n",
    "      },\n",
    "//Monkey 1\n",
    "      {\n",
    "        \" ʕ༼ ◕_◕ ༽ʔ\",       //[1][0]\n",
    "        \"  \\\\_⎏_/  \",\n",
    "        \"  ++1++  \",\n",
    "        \"   ⌋ ⌊   \"\n",
    "      },\n",
    "//Monkey 2\n",
    "      {\n",
    "        \" ʕ(▀ ⍡ ▀)ʔ\",       //[2][0]\n",
    "        \"  \\\\_⎐_/ \",\n",
    "        \"  <-2->  \",\n",
    "        \"  〈  〉 \"\n",
    "      },\n",
    "//Monkey 3\n",
    "      {\n",
    "        \"ʕ ͡° ͜ʖ ° ͡ʔ\",        //[3][0]\n",
    "        \"  \\\\_⍾_/  \",\n",
    "        \"  ==3==  \",\n",
    "        \"  _/ \\\\_  \"\n",
    "      },    \n",
    "    };\n",
    "    \n",
    "    public void printMonkeys () {\n",
    "      for (int count = 4; count >= 1; count--) {\n",
    "        System.out.println(\"Here comes \" + count + \" monkeys\\n\");\n",
    "        for (int i = 0; i<monkeys[0].length; i++) {\n",
    "          for (int j = 0; j<count; j++) {\n",
    "            System.out.print(monkeys[j][i] + \"    \");\n",
    "          }\n",
    "          System.out.println();\n",
    "        }\n",
    "    \n",
    "        System.out.println();\n",
    "        System.out.println(\"Now there are \" + (count-1) + \" monkeys\\n\");\n",
    "      }\n",
    "    }\n",
    "  }\n",
    "\n",
    "Array myRhyme = new Array();\n",
    "myRhyme.printMonkeys();\n",
    "  "
   ]
  },
  {
   "cell_type": "code",
   "execution_count": null,
   "metadata": {
    "vscode": {
     "languageId": "java"
    }
   },
   "outputs": [],
   "source": []
  }
 ],
 "metadata": {
  "kernelspec": {
   "display_name": "Java",
   "language": "java",
   "name": "java"
  },
  "language_info": {
   "codemirror_mode": "java",
   "file_extension": ".jshell",
   "mimetype": "text/x-java-source",
   "name": "Java",
   "pygments_lexer": "java",
   "version": "11.0.16+8-post-Ubuntu-0ubuntu120.04"
  },
  "orig_nbformat": 4
 },
 "nbformat": 4,
 "nbformat_minor": 2
}
