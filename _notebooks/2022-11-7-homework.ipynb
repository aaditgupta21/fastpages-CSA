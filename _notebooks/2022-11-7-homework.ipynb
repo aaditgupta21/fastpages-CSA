{
 "cells": [
  {
   "cell_type": "markdown",
   "metadata": {},
   "source": [
    "# Trimester 1 Lesson Homework\n",
    "> Homework Solutions for Lessons\n",
    "\n",
    "- toc: true \n",
    "- badges: true\n",
    "- comments: false\n",
    "- categories: [unit-work]"
   ]
  },
  {
   "cell_type": "markdown",
   "metadata": {},
   "source": [
    "# Unit 1 - Primitives\n",
    "\n",
    "Basic data types in Java. Boolean, float, double, and short are just some examples.\n"
   ]
  },
  {
   "cell_type": "markdown",
   "metadata": {},
   "source": [
    "## 2006 FRQ 2a\n"
   ]
  },
  {
   "cell_type": "code",
   "execution_count": null,
   "metadata": {
    "vscode": {
     "languageId": "java"
    }
   },
   "outputs": [],
   "source": [
    "public double purchasePrice() {\n",
    "    total = 0;\n",
    "    total = getListPrice() * (1+ taxRate);\n",
    "\n",
    "    return total;\n",
    "}"
   ]
  },
  {
   "cell_type": "markdown",
   "metadata": {},
   "source": [
    "## 2006 FRQ 3a\n"
   ]
  },
  {
   "cell_type": "code",
   "execution_count": null,
   "metadata": {
    "vscode": {
     "languageId": "java"
    }
   },
   "outputs": [],
   "source": [
    "public int compareCustomer(Customer other) {\n",
    "    int numberCompare = getName().compareTo(other.getName());\n",
    "    if (numberCompare == 0) {\n",
    "        return this.getID() - other.getID();\n",
    "    } else {\n",
    "        return numberCompare;\n",
    "    }\n",
    "}"
   ]
  },
  {
   "cell_type": "markdown",
   "metadata": {},
   "source": [
    "# Unit 2 - Using Objects\n",
    "\n",
    "- OOP is an object oriented programming language\n",
    "- classes are blueprint\n",
    "- objects are an instance of the created class"
   ]
  },
  {
   "cell_type": "markdown",
   "metadata": {},
   "source": [
    "## Goblin Game"
   ]
  },
  {
   "cell_type": "code",
   "execution_count": 1,
   "metadata": {
    "vscode": {
     "languageId": "java"
    }
   },
   "outputs": [],
   "source": [
    "public class Goblin {\n",
    "    private String name;\n",
    "    private int HP;\n",
    "    private int DMG;\n",
    "    private double hitChance;\n",
    "    private double criticalHitChance;\n",
    "\n",
    "    public String getName() {\n",
    "        return name;\n",
    "    }\n",
    "\n",
    "    public int getHP() {\n",
    "        return HP;\n",
    "    }\n",
    "\n",
    "    public int getDMG() {\n",
    "        return DMG;\n",
    "    }\n",
    "\n",
    "    public double getHitChance() {\n",
    "        return hitChance;\n",
    "    }\n",
    "\n",
    "    public double getCriticalHitChance(){\n",
    "        return criticalHitChance;\n",
    "    }\n",
    "\n",
    "    public boolean isAlive() {\n",
    "        if (this.HP > 0) {\n",
    "            return true;\n",
    "        } else {\n",
    "            return false;\n",
    "        }\n",
    "    }\n",
    "\n",
    "    public void setName(String newName) {\n",
    "        this.name = newName;\n",
    "    }\n",
    "\n",
    "    public void setHP(int newHP) {\n",
    "        this.HP = newHP;\n",
    "    }\n",
    "\n",
    "    public void takeDMG(int takenDamage) {\n",
    "        this.HP -= takenDamage;\n",
    "    }\n",
    "\n",
    "    public void setDMG(int newDMG) {\n",
    "        this.DMG = newDMG;\n",
    "    }\n",
    "\n",
    "    public void setHitChance(double newHitChance) {\n",
    "        this.hitChance = newHitChance;\n",
    "    }\n",
    "\n",
    "    public void setCriticalHitChance(double newCriticalHitChance) {\n",
    "        this.criticalHitChance = newCriticalHitChance;\n",
    "    }\n",
    "}\n"
   ]
  },
  {
   "cell_type": "code",
   "execution_count": 2,
   "metadata": {
    "vscode": {
     "languageId": "java"
    }
   },
   "outputs": [
    {
     "name": "stdout",
     "output_type": "stream",
     "text": [
      "jeffrey attacks Gunther the great!\n",
      "jeffrey lands a critical hit!\n",
      "Gunther the great takes 4 damage\n",
      "Gunther the great HP: 0\n",
      "\n",
      "Gunther the great attacks jeffrey!\n",
      "Gunther the great hits!\n",
      "jeffrey takes 1 damage\n",
      "jeffrey HP: 11\n",
      "\n",
      "Gunther the great has perished\n"
     ]
    }
   ],
   "source": [
    "import java.lang.Math;\n",
    "\n",
    "public class Duel {\n",
    "\n",
    "    public static void attack(Goblin attackerGoblin, Goblin attackeeGoblin) {\n",
    "\n",
    "        System.out.println(attackerGoblin.getName() + \" attacks \" + attackeeGoblin.getName() + \"!\");\n",
    "        if (Math.random() < attackerGoblin.getHitChance()) {\n",
    "            if (Math.random() < attackerGoblin.getCriticalHitChance()){\n",
    "                attackeeGoblin.takeDMG(2*attackerGoblin.getDMG());\n",
    "                System.out.println(attackerGoblin.getName() + \" lands a critical hit!\");\n",
    "                System.out.println(attackeeGoblin.getName() + \" takes \" + 2*attackerGoblin.getDMG() + \" damage\");\n",
    "            }\n",
    "            else{\n",
    "                attackeeGoblin.takeDMG(attackerGoblin.getDMG());\n",
    "                System.out.println(attackerGoblin.getName() + \" hits!\");\n",
    "                System.out.println(attackeeGoblin.getName() + \" takes \" + attackerGoblin.getDMG() + \" damage\");\n",
    "            }   \n",
    "        } else {\n",
    "            System.out.println(attackerGoblin.getName() + \" misses...\");\n",
    "        }\n",
    "\n",
    "        System.out.println(attackeeGoblin.getName() + \" HP: \" + attackeeGoblin.getHP());\n",
    "        System.out.println();\n",
    "    }\n",
    "\n",
    "    public static void fight(Goblin goblin1, Goblin goblin2) {\n",
    "        while (goblin1.isAlive() && goblin2.isAlive()) {\n",
    "            \n",
    "            attack(goblin1, goblin2);\n",
    "\n",
    "            if (!goblin1.isAlive()) {\n",
    "                System.out.println(goblin1.getName() + \" has perished\");\n",
    "                break;\n",
    "            }\n",
    "\n",
    "            attack(goblin2, goblin1);\n",
    "\n",
    "            if (!goblin2.isAlive()) {\n",
    "                System.out.println(goblin2.getName() + \" has perished\");\n",
    "                break;\n",
    "            }\n",
    "        }\n",
    "    }\n",
    "\n",
    "    public static void main(String[] args) {\n",
    "        Goblin goblin1 = new Goblin();\n",
    "        goblin1.setName(\"jeffrey\");\n",
    "        goblin1.setHP(12);\n",
    "        goblin1.setDMG(2);\n",
    "        goblin1.setHitChance(0.50);\n",
    "        goblin1.setCriticalHitChance(0.1);\n",
    "\n",
    "        Goblin goblin2 = new Goblin();\n",
    "        goblin2.setName(\"Gunther the great\");\n",
    "        goblin2.setHP(4);\n",
    "        goblin2.setDMG(1);\n",
    "        goblin2.setHitChance(1);\n",
    "        goblin1.setCriticalHitChance(0.5);\n",
    "\n",
    "        fight(goblin1, goblin2);\n",
    "    }\n",
    "}\n",
    "\n",
    "Duel.main(null);\n"
   ]
  },
  {
   "cell_type": "markdown",
   "metadata": {},
   "source": [
    "# Unit 3 - Boolean expressions\n",
    "\n",
    "- If statement is a conditional statement that when true it runs code in the code block\n",
    "- If statements have an else condition, where it will run if the code block in the beginning if statement is not True\n",
    "- Switch statements can replace a long if/else loop"
   ]
  },
  {
   "cell_type": "markdown",
   "metadata": {},
   "source": [
    "## 2009 FRQ 3b"
   ]
  },
  {
   "cell_type": "code",
   "execution_count": null,
   "metadata": {
    "vscode": {
     "languageId": "java"
    }
   },
   "outputs": [],
   "source": [
    "public int getChargeStartTime(int chargeTime) {\n",
    "    int time = 0;\n",
    "    for (int i =1; i< 24; i++) {\n",
    "        if (this.getChargingCost(i, chargeTime) < this.getChargingCost(time, chargeTime)) {\n",
    "            time =i;\n",
    "        }\n",
    "    }\n",
    "\n",
    "    return time;\n",
    "}"
   ]
  },
  {
   "cell_type": "markdown",
   "metadata": {},
   "source": [
    "## 2017 FRQ 1b"
   ]
  },
  {
   "cell_type": "code",
   "execution_count": null,
   "metadata": {
    "vscode": {
     "languageId": "java"
    }
   },
   "outputs": [],
   "source": [
    "public boolean isStrictlyIncreasing() {\n",
    "    for (int i =1; i < digitList.size(); i++) {\n",
    "        if (digitList.get(i-1) < digitList.get(i)) {\n",
    "            return true;\n",
    "        } else {\n",
    "            return false;\n",
    "        }\n",
    "    }\n",
    "}"
   ]
  },
  {
   "cell_type": "markdown",
   "metadata": {},
   "source": [
    "## 2019 FRQ 3b"
   ]
  },
  {
   "cell_type": "code",
   "execution_count": null,
   "metadata": {
    "vscode": {
     "languageId": "java"
    }
   },
   "outputs": [],
   "source": [
    "public boolean isBalanced(ArrayList<String> delimiters) {\n",
    "\n",
    "    int numOpen =0;\n",
    "    int numClosed = 0\n",
    "    for (int i =0; i <delimiters.size(); i++) {\n",
    "        if (delimiters.get(i).equals(openDel)) {\n",
    "            numOpen++;\n",
    "        }\n",
    "\n",
    "        if (delimiters.get(i).equals(closeDel)) {\n",
    "            numOpen++;\n",
    "        }\n",
    "    }\n",
    "\n",
    "    if (numClosed == numOpen) {\n",
    "        return true;\n",
    "    } else {\n",
    "        return false;\n",
    "    }\n",
    "\n",
    "}"
   ]
  }
 ],
 "metadata": {
  "kernelspec": {
   "display_name": "Java",
   "language": "java",
   "name": "java"
  },
  "language_info": {
   "codemirror_mode": "java",
   "file_extension": ".jshell",
   "mimetype": "text/x-java-source",
   "name": "Java",
   "pygments_lexer": "java",
   "version": "11.0.16+8-post-Ubuntu-0ubuntu120.04"
  },
  "orig_nbformat": 4
 },
 "nbformat": 4,
 "nbformat_minor": 2
}
