{
 "cells": [
  {
   "cell_type": "markdown",
   "metadata": {},
   "source": [
    "# Trimester 1 Lesson Homework\n",
    "> Homework Solutions for Lessons\n",
    "\n",
    "- toc: true \n",
    "- badges: true\n",
    "- comments: true\n",
    "- categories: [unit-work]"
   ]
  },
  {
   "cell_type": "markdown",
   "metadata": {},
   "source": [
    "# Unit 1 - Primitives\n",
    "\n",
    "- Basic data types in Java. Boolean, float, double, and short are just some examples.\n",
    "- Primitives are lowercase but non Primitives are uppercase\n",
    "- Casting allows you convert one type to a different type\n",
    "- You can convert a double or int to a String to display in System.out.println()\n"
   ]
  },
  {
   "cell_type": "markdown",
   "metadata": {},
   "source": [
    "## 2006 FRQ 2a\n"
   ]
  },
  {
   "cell_type": "code",
   "execution_count": null,
   "metadata": {},
   "outputs": [],
   "source": [
    "public double purchasePrice() {\n",
    "    total = 0;\n",
    "    total = getListPrice() * (1+ taxRate);\n",
    "\n",
    "    return total;\n",
    "}"
   ]
  },
  {
   "cell_type": "markdown",
   "metadata": {},
   "source": [
    "## 2006 FRQ 3a\n"
   ]
  },
  {
   "cell_type": "code",
   "execution_count": null,
   "metadata": {},
   "outputs": [],
   "source": [
    "public int compareCustomer(Customer other) {\n",
    "    int numberCompare = getName().compareTo(other.getName());\n",
    "    if (numberCompare == 0) {\n",
    "        return this.getID() - other.getID();\n",
    "    } else {\n",
    "        return numberCompare;\n",
    "    }\n",
    "}"
   ]
  },
  {
   "cell_type": "markdown",
   "metadata": {},
   "source": [
    "# Unit 2 - Using Objects\n",
    "\n",
    "- OOP is an object oriented programming language\n",
    "- classes are blueprint\n",
    "- objects are an instance of the created class"
   ]
  },
  {
   "cell_type": "markdown",
   "metadata": {},
   "source": [
    "## Goblin Game"
   ]
  },
  {
   "cell_type": "code",
   "execution_count": 1,
   "metadata": {},
   "outputs": [],
   "source": [
    "public class Goblin {\n",
    "    private String name;\n",
    "    private int HP;\n",
    "    private int DMG;\n",
    "    private double hitChance;\n",
    "    private double criticalHitChance;\n",
    "\n",
    "    public String getName() {\n",
    "        return name;\n",
    "    }\n",
    "\n",
    "    public int getHP() {\n",
    "        return HP;\n",
    "    }\n",
    "\n",
    "    public int getDMG() {\n",
    "        return DMG;\n",
    "    }\n",
    "\n",
    "    public double getHitChance() {\n",
    "        return hitChance;\n",
    "    }\n",
    "\n",
    "    public double getCriticalHitChance(){\n",
    "        return criticalHitChance;\n",
    "    }\n",
    "\n",
    "    public boolean isAlive() {\n",
    "        if (this.HP > 0) {\n",
    "            return true;\n",
    "        } else {\n",
    "            return false;\n",
    "        }\n",
    "    }\n",
    "\n",
    "    public void setName(String newName) {\n",
    "        this.name = newName;\n",
    "    }\n",
    "\n",
    "    public void setHP(int newHP) {\n",
    "        this.HP = newHP;\n",
    "    }\n",
    "\n",
    "    public void takeDMG(int takenDamage) {\n",
    "        this.HP -= takenDamage;\n",
    "    }\n",
    "\n",
    "    public void setDMG(int newDMG) {\n",
    "        this.DMG = newDMG;\n",
    "    }\n",
    "\n",
    "    public void setHitChance(double newHitChance) {\n",
    "        this.hitChance = newHitChance;\n",
    "    }\n",
    "\n",
    "    public void setCriticalHitChance(double newCriticalHitChance) {\n",
    "        this.criticalHitChance = newCriticalHitChance;\n",
    "    }\n",
    "}\n"
   ]
  },
  {
   "cell_type": "code",
   "execution_count": 2,
   "metadata": {},
   "outputs": [
    {
     "name": "stdout",
     "output_type": "stream",
     "text": [
      "jeffrey attacks Gunther the great!\n",
      "jeffrey lands a critical hit!\n",
      "Gunther the great takes 4 damage\n",
      "Gunther the great HP: 0\n",
      "\n",
      "Gunther the great attacks jeffrey!\n",
      "Gunther the great hits!\n",
      "jeffrey takes 1 damage\n",
      "jeffrey HP: 11\n",
      "\n",
      "Gunther the great has perished\n"
     ]
    }
   ],
   "source": [
    "import java.lang.Math;\n",
    "\n",
    "public class Duel {\n",
    "\n",
    "    public static void attack(Goblin attackerGoblin, Goblin attackeeGoblin) {\n",
    "\n",
    "        System.out.println(attackerGoblin.getName() + \" attacks \" + attackeeGoblin.getName() + \"!\");\n",
    "        if (Math.random() < attackerGoblin.getHitChance()) {\n",
    "            if (Math.random() < attackerGoblin.getCriticalHitChance()){\n",
    "                attackeeGoblin.takeDMG(2*attackerGoblin.getDMG());\n",
    "                System.out.println(attackerGoblin.getName() + \" lands a critical hit!\");\n",
    "                System.out.println(attackeeGoblin.getName() + \" takes \" + 2*attackerGoblin.getDMG() + \" damage\");\n",
    "            }\n",
    "            else{\n",
    "                attackeeGoblin.takeDMG(attackerGoblin.getDMG());\n",
    "                System.out.println(attackerGoblin.getName() + \" hits!\");\n",
    "                System.out.println(attackeeGoblin.getName() + \" takes \" + attackerGoblin.getDMG() + \" damage\");\n",
    "            }   \n",
    "        } else {\n",
    "            System.out.println(attackerGoblin.getName() + \" misses...\");\n",
    "        }\n",
    "\n",
    "        System.out.println(attackeeGoblin.getName() + \" HP: \" + attackeeGoblin.getHP());\n",
    "        System.out.println();\n",
    "    }\n",
    "\n",
    "    public static void fight(Goblin goblin1, Goblin goblin2) {\n",
    "        while (goblin1.isAlive() && goblin2.isAlive()) {\n",
    "            \n",
    "            attack(goblin1, goblin2);\n",
    "\n",
    "            if (!goblin1.isAlive()) {\n",
    "                System.out.println(goblin1.getName() + \" has perished\");\n",
    "                break;\n",
    "            }\n",
    "\n",
    "            attack(goblin2, goblin1);\n",
    "\n",
    "            if (!goblin2.isAlive()) {\n",
    "                System.out.println(goblin2.getName() + \" has perished\");\n",
    "                break;\n",
    "            }\n",
    "        }\n",
    "    }\n",
    "\n",
    "    public static void main(String[] args) {\n",
    "        Goblin goblin1 = new Goblin();\n",
    "        goblin1.setName(\"jeffrey\");\n",
    "        goblin1.setHP(12);\n",
    "        goblin1.setDMG(2);\n",
    "        goblin1.setHitChance(0.50);\n",
    "        goblin1.setCriticalHitChance(0.1);\n",
    "\n",
    "        Goblin goblin2 = new Goblin();\n",
    "        goblin2.setName(\"Gunther the great\");\n",
    "        goblin2.setHP(4);\n",
    "        goblin2.setDMG(1);\n",
    "        goblin2.setHitChance(1);\n",
    "        goblin1.setCriticalHitChance(0.5);\n",
    "\n",
    "        fight(goblin1, goblin2);\n",
    "    }\n",
    "}\n",
    "\n",
    "Duel.main(null);\n"
   ]
  },
  {
   "cell_type": "markdown",
   "metadata": {},
   "source": [
    "# Unit 3 - Boolean expressions\n",
    "\n",
    "- If statement is a conditional statement that when true it runs code in the code block\n",
    "- If statements have an else condition, where it will run if the code block in the beginning if statement is not True\n",
    "- Switch statements can replace a long if/else loop\n",
    "- "
   ]
  },
  {
   "cell_type": "markdown",
   "metadata": {},
   "source": [
    "## 2009 FRQ 3b"
   ]
  },
  {
   "cell_type": "code",
   "execution_count": null,
   "metadata": {},
   "outputs": [],
   "source": [
    "public int getChargeStartTime(int chargeTime) {\n",
    "    int time = 0;\n",
    "    for (int i =1; i< 24; i++) {\n",
    "        if (this.getChargingCost(i, chargeTime) < this.getChargingCost(time, chargeTime)) {\n",
    "            time =i;\n",
    "        }\n",
    "    }\n",
    "\n",
    "    return time;\n",
    "}"
   ]
  },
  {
   "cell_type": "markdown",
   "metadata": {},
   "source": [
    "## 2017 FRQ 1b"
   ]
  },
  {
   "cell_type": "code",
   "execution_count": null,
   "metadata": {},
   "outputs": [],
   "source": [
    "public boolean isStrictlyIncreasing() {\n",
    "    for (int i =1; i < digitList.size(); i++) {\n",
    "        if (digitList.get(i-1) < digitList.get(i)) {\n",
    "            return true;\n",
    "        } else {\n",
    "            return false;\n",
    "        }\n",
    "    }\n",
    "}"
   ]
  },
  {
   "cell_type": "markdown",
   "metadata": {},
   "source": [
    "## 2019 FRQ 3b"
   ]
  },
  {
   "cell_type": "code",
   "execution_count": null,
   "metadata": {},
   "outputs": [],
   "source": [
    "public boolean isBalanced(ArrayList<String> delimiters) {\n",
    "\n",
    "    int numOpen =0;\n",
    "    int numClosed = 0\n",
    "    for (int i =0; i <delimiters.size(); i++) {\n",
    "        if (delimiters.get(i).equals(openDel)) {\n",
    "            numOpen++;\n",
    "        }\n",
    "\n",
    "        if (delimiters.get(i).equals(closeDel)) {\n",
    "            numOpen++;\n",
    "        }\n",
    "    }\n",
    "\n",
    "    if (numClosed == numOpen) {\n",
    "        return true;\n",
    "    } else {\n",
    "        return false;\n",
    "    }\n",
    "\n",
    "}"
   ]
  },
  {
   "cell_type": "markdown",
   "metadata": {},
   "source": [
    "# Unit 4 - Iteration\n",
    "- While Loop\n",
    "- For Loop\n",
    "- Recursive Loop\n",
    "- Used in most FRQ to help solve the overall goal"
   ]
  },
  {
   "cell_type": "markdown",
   "metadata": {},
   "source": [
    "## Part 1 "
   ]
  },
  {
   "cell_type": "code",
   "execution_count": null,
   "metadata": {},
   "outputs": [],
   "source": [
    "import javax.swing.JFrame;\n",
    "import javax.swing.JPanel;\n",
    "import javax.swing.JLabel;\n",
    "import javax.swing.JButton;\n",
    "import javax.swing.JTextField;\n",
    "import java.awt.*;\n",
    "import java.awt.event.*;\n",
    "import java.util.Random;\n",
    "import javax.swing.JOptionPane;\n",
    "\n",
    "public class Gui implements ActionListener {\n",
    "    JFrame frame = new JFrame();\n",
    "    JPanel panel = new JPanel();\n",
    "    JButton submitButton = new JButton(\"Submit\");\n",
    "    JTextField fieldString = new JTextField(20);\n",
    "    JLabel label = new JLabel();\n",
    "    int numGuesses = 1;\n",
    "    boolean numCorrect = false;\n",
    "    Random rand = new Random();\n",
    "    int randomNumber = rand.nextInt(100);\n",
    "\n",
    "    void go() {\n",
    "        frame.add(panel);\n",
    "        panel.add(fieldString);\n",
    "        panel.add(submitButton);\n",
    "        panel.add(label);\n",
    "        frame.setVisible(true);\n",
    "        frame.setDefaultCloseOperation(JFrame.EXIT_ON_CLOSE);\n",
    "        submitButton.addActionListener(this);\n",
    "        frame.setSize(new Dimension(500, 500));\n",
    "        label.setText(\"Enter a number between 1 and 100\");\n",
    "    }\n",
    "\n",
    "    public static void main(String[] args) {\n",
    "        Gui gui = new Gui();\n",
    "        gui.go();\n",
    "    }\n",
    "\n",
    "    @Override\n",
    "    public void actionPerformed(ActionEvent e) {\n",
    "        int field = Integer.parseInt(fieldString.getText());\n",
    "        System.out.println(randomNumber);\n",
    "        System.out.println(field);\n",
    "\n",
    "        if (numCorrect == false) {\n",
    "            if (field > randomNumber) {\n",
    "                JOptionPane.showMessageDialog(null, \"Guess too high, try again. Amount of Guesses: \" + numGuesses);\n",
    "                numGuesses += 1;\n",
    "                fieldString.setText(\"\");\n",
    "            } else if (field < randomNumber) {\n",
    "                JOptionPane.showMessageDialog(null, \"Guess too low, try again. Amount of Guesses: \" + numGuesses);\n",
    "                numGuesses += 1;\n",
    "                fieldString.setText(\"\");\n",
    "            } else if (field == randomNumber) {\n",
    "                JOptionPane.showMessageDialog(null, \"Correct Guess. Amount of Guesses: \" + numGuesses);\n",
    "                numCorrect = true;\n",
    "                System.exit(0);\n",
    "            }\n",
    "        }\n",
    "    }\n",
    "\n",
    "}\n",
    "\n",
    "Gui.main(null);"
   ]
  },
  {
   "cell_type": "markdown",
   "metadata": {},
   "source": [
    "## Part 2 \n",
    "![Score](https://user-images.githubusercontent.com/50186752/200508229-b3b92622-3fc7-4457-98fd-1dc04c1fe27d.png)"
   ]
  },
  {
   "cell_type": "markdown",
   "metadata": {},
   "source": [
    "# Unit 5 - Writing Classes\n",
    "- Object is the instance of a class\n",
    "- Class is the overall blueprint of the thing\n",
    "- Methods are functions or behaviors that the objects do\n",
    "- Constructors initiailize some of the private variables and creates object\n",
    "- Some variables might be private so you need getter and setter methods to access and modify the data"
   ]
  },
  {
   "cell_type": "markdown",
   "metadata": {},
   "source": [
    "## 2021 1a "
   ]
  },
  {
   "cell_type": "code",
   "execution_count": null,
   "metadata": {},
   "outputs": [],
   "source": [
    "public int scoreGuess (String guess) {\n",
    "    int count = 0;\n",
    "    for (int i = 0; i <= secret.length() - guess.length(); i++) {\n",
    "        if (secret.substring(i, i + guess.length()).equals(guess)) {\n",
    "            count++;\n",
    "        }\n",
    "    }\n",
    "\n",
    "    return count * guess.length() * guess.length();\n",
    "}"
   ]
  },
  {
   "cell_type": "markdown",
   "metadata": {},
   "source": [
    "## 2021 3a"
   ]
  },
  {
   "cell_type": "code",
   "execution_count": null,
   "metadata": {},
   "outputs": [],
   "source": [
    "public void addMembers(String[] names, int gradYear ) {\n",
    "    for( String n : names ) {\n",
    "        memberList.add(new MemberInfo( n, gradYear, true) );\n",
    "    }\n",
    "}"
   ]
  },
  {
   "cell_type": "markdown",
   "metadata": {},
   "source": [
    "# Unit 6 - Arrays\n",
    "- ArrayList in java\n",
    "- Use a for loop to acces an array\n",
    "- bound errors or uninitialized and unfilled arrays are usual errors\n",
    "- Enhanced loop to traverse array\n",
    "- int[] array = new int[5]; int[] array = [10, 2, 3, 4, 5];\n",
    "- CollegeBoard will usually have a for loop and skip iterations and change the value of variable\n"
   ]
  },
  {
   "cell_type": "code",
   "execution_count": 27,
   "metadata": {},
   "outputs": [
    {
     "name": "stdout",
     "output_type": "stream",
     "text": [
      "Initializing\n",
      "0123456789\n",
      "Printing Even\n",
      "0103050709\n",
      "Swapping Elements\n",
      "9103050700"
     ]
    }
   ],
   "source": [
    "import java.util.ArrayList;\n",
    "\n",
    "public class ArrayHW {\n",
    "    ArrayList<Integer> values = new ArrayList<Integer>();\n",
    "\n",
    "    public void initialize() {\n",
    "        for (int i = 0; i < 10; i++) {\n",
    "            values.add(i);\n",
    "        }\n",
    "    }\n",
    "\n",
    "    public void printEven() {\n",
    "        for (int i = 0; i < values.size(); i++) {\n",
    "            if (values.get(i) % 2 == 0) {\n",
    "                values.set(i, 0);\n",
    "                System.out.print(values.get(i));\n",
    "            } else {\n",
    "                System.out.print(values.get(i));\n",
    "            }\n",
    "        }\n",
    "    }\n",
    "\n",
    "    public void swap(){\n",
    "        int lastElement = values.get(values.size()-1);\n",
    "        values.set(values.size()-1, values.get(0));\n",
    "        values.set(0, lastElement);\n",
    "        for (int i = 0; i < values.size(); i++) {\n",
    "            System.out.print(values.get(i));\n",
    "        }\n",
    "    }\n",
    "\n",
    "    public void print() {\n",
    "        for (int i = 0; i < values.size(); i++) {\n",
    "            System.out.print(values.get(i));\n",
    "        }\n",
    "    }\n",
    "\n",
    "    public static void main(String[] args) {\n",
    "        ArrayHW arrayHW = new ArrayHW();\n",
    "        System.out.println(\"Initializing\");\n",
    "        arrayHW.initialize();\n",
    "        arrayHW.print();\n",
    "        System.out.println(\"\\nPrinting Even\");\n",
    "        arrayHW.printEven();\n",
    "        System.out.println(\"\\nSwapping Elements\");\n",
    "        arrayHW.swap();\n",
    "\n",
    "    }\n",
    "}\n",
    "ArrayHW.main(null);"
   ]
  },
  {
   "cell_type": "code",
   "execution_count": null,
   "metadata": {},
   "outputs": [],
   "source": []
  }
 ],
 "metadata": {
  "kernelspec": {
   "display_name": "Java",
   "language": "java",
   "name": "java"
  },
  "language_info": {
   "codemirror_mode": "java",
   "file_extension": ".jshell",
   "mimetype": "text/x-java-source",
   "name": "java",
   "pygments_lexer": "java",
   "version": "11.0.16+8-post-Ubuntu-0ubuntu120.04"
  },
  "orig_nbformat": 4
 },
 "nbformat": 4,
 "nbformat_minor": 2
}
